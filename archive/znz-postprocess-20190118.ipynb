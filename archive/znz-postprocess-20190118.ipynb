{
 "cells": [
  {
   "cell_type": "code",
   "execution_count": 1,
   "metadata": {
    "collapsed": true
   },
   "outputs": [],
   "source": [
    "import numpy as np\n",
    "import rasterio\n",
    "from rasterio.windows import Window\n",
    "\n",
    "import cv2 \n",
    "import geopandas as gpd\n",
    "\n",
    "from shapely.geometry import MultiPolygon, Polygon\n",
    "from shapely.ops import cascaded_union\n",
    "from collections import defaultdict\n",
    "\n",
    "from pathlib import Path\n",
    "\n",
    "import matplotlib.pyplot as plt\n",
    "%matplotlib inline\n",
    "\n",
    "from tqdm import tqdm"
   ]
  },
  {
   "cell_type": "code",
   "execution_count": 2,
   "metadata": {
    "collapsed": true
   },
   "outputs": [],
   "source": [
    "# creating polygons from pixel masks\n",
    "# from https://www.kaggle.com/lopuhin/full-pipeline-demo-poly-pixels-ml-poly\n",
    "\n",
    "def mask_to_polygons(mask, epsilon=10, min_area=50.):\n",
    "    # first, find contours with cv2: it's much faster than shapely\n",
    "    image, contours, hierarchy = cv2.findContours(\n",
    "        ((mask == 1) * 255).astype(np.uint8),\n",
    "        cv2.RETR_CCOMP, cv2.CHAIN_APPROX_TC89_KCOS)\n",
    "    # create approximate contours to have reasonable submission size\n",
    "#     epsi = lambda x: epsilon*cv2.arcLength(x,True)\n",
    "    approx_contours = [cv2.approxPolyDP(cnt, epsilon, True)\n",
    "                       for cnt in contours]\n",
    "    if not contours:\n",
    "        return MultiPolygon()\n",
    "    # now messy stuff to associate parent and child contours\n",
    "    cnt_children = defaultdict(list)\n",
    "    child_contours = set()\n",
    "    assert hierarchy.shape[0] == 1\n",
    "    # http://docs.opencv.org/3.1.0/d9/d8b/tutorial_py_contours_hierarchy.html\n",
    "    for idx, (_, _, _, parent_idx) in enumerate(hierarchy[0]):\n",
    "        if parent_idx != -1:\n",
    "            child_contours.add(idx)\n",
    "            cnt_children[parent_idx].append(approx_contours[idx])\n",
    "    # create actual polygons filtering by area (removes artifacts)\n",
    "    all_polygons = []\n",
    "    for idx, cnt in enumerate(approx_contours):\n",
    "        if idx not in child_contours and cv2.contourArea(cnt) >= min_area:\n",
    "            assert cnt.shape[1] == 1\n",
    "            poly = Polygon(\n",
    "                shell=cnt[:, 0, :],\n",
    "                holes=[c[:, 0, :] for c in cnt_children.get(idx, [])\n",
    "                       if cv2.contourArea(c) >= min_area])\n",
    "            all_polygons.append(poly)\n",
    "    # approximating polygons might have created invalid ones, fix them\n",
    "    all_polygons = MultiPolygon(all_polygons)\n",
    "    if not all_polygons.is_valid:\n",
    "        all_polygons = all_polygons.buffer(0)\n",
    "        # Sometimes buffer() converts a simple Multipolygon to just a Polygon,\n",
    "        # need to keep it a Multi throughout\n",
    "        if all_polygons.type == 'Polygon':\n",
    "            all_polygons = MultiPolygon([all_polygons])\n",
    "    return all_polygons"
   ]
  },
  {
   "cell_type": "code",
   "execution_count": 3,
   "metadata": {
    "collapsed": true
   },
   "outputs": [],
   "source": [
    "INPUT = Path('znz-20190118')\n",
    "\n",
    "# grid_042\n",
    "COG_URL  = 'https://oin-hotosm.s3.amazonaws.com/5ae318220b093000130afd64/0/5ae318220b093000130afd65.tif'"
   ]
  },
  {
   "cell_type": "markdown",
   "metadata": {},
   "source": [
    "## If needed, reproject to EPSG:4326"
   ]
  },
  {
   "cell_type": "code",
   "execution_count": 4,
   "metadata": {
    "collapsed": true
   },
   "outputs": [],
   "source": [
    "src_tif = 'grid_042_20190118_test1x_merged.tif'\n",
    "dst_tif = 'grid_042_20190118_test1x_merged_reproj.tif'"
   ]
  },
  {
   "cell_type": "code",
   "execution_count": 5,
   "metadata": {},
   "outputs": [
    {
     "data": {
      "text/plain": [
       "{'count': 3,\n",
       " 'crs': CRS({'init': 'epsg:32737'}),\n",
       " 'driver': 'GTiff',\n",
       " 'dtype': 'uint8',\n",
       " 'height': 40592,\n",
       " 'nodata': None,\n",
       " 'transform': Affine(0.07398361590021522, 0.0, 534722.5625,\n",
       "       0.0, -0.07398361590021522, 9347193.0),\n",
       " 'width': 40551}"
      ]
     },
     "execution_count": 5,
     "metadata": {},
     "output_type": "execute_result"
    }
   ],
   "source": [
    "raster = rasterio.open(INPUT/src_tif,'r')\n",
    "raster.meta"
   ]
  },
  {
   "cell_type": "code",
   "execution_count": null,
   "metadata": {
    "collapsed": true
   },
   "outputs": [],
   "source": [
    "# https://rasterio.readthedocs.io/en/latest/topics/reproject.html\n",
    "\n",
    "from rasterio.warp import calculate_default_transform, reproject, Resampling\n",
    "\n",
    "dst_crs = 'EPSG:4326'\n",
    "\n",
    "with rasterio.open(INPUT/src_tif) as src:\n",
    "    transform, width, height = calculate_default_transform(\n",
    "        src.crs, dst_crs, src.width, src.height, *src.bounds)\n",
    "    kwargs = src.meta.copy()\n",
    "    kwargs.update({\n",
    "        'crs': dst_crs,\n",
    "        'transform': transform,\n",
    "        'width': width,\n",
    "        'height': height,\n",
    "        'compress': 'JPEG',\n",
    "        'tiled': True, \n",
    "        'blockxsize': 256, \n",
    "        'blockysize': 256\n",
    "    })\n",
    "\n",
    "    with rasterio.open(INPUT/dst_tif, 'w', **kwargs) as dst:\n",
    "        for i in range(1, src.count + 1):\n",
    "            reproject(\n",
    "                source=rasterio.band(src, i),\n",
    "                destination=rasterio.band(dst, i),\n",
    "                src_transform=src.transform,\n",
    "                src_crs=src.crs,\n",
    "                dst_transform=transform,\n",
    "                dst_crs=dst_crs,\n",
    "                resampling=Resampling.nearest,\n",
    "            )"
   ]
  },
  {
   "cell_type": "markdown",
   "metadata": {},
   "source": [
    "or with gdalwarp on CLI:"
   ]
  },
  {
   "cell_type": "code",
   "execution_count": null,
   "metadata": {
    "collapsed": true
   },
   "outputs": [],
   "source": [
    "!gdalwarp -co compress=JPEG -co PHOTOMETRIC=YCBCR -co TILED=YES -co \"BLOCKXSIZE=256\" -co \"BLOCKYSIZE=256\" -s_srs EPSG:32737 -t_srs EPSG:4326 {INPUT}/{src_tif} {INPUT}/{dst_tif}   "
   ]
  },
  {
   "cell_type": "markdown",
   "metadata": {},
   "source": [
    "## Open and Read Windows"
   ]
  },
  {
   "cell_type": "code",
   "execution_count": 11,
   "metadata": {
    "collapsed": true
   },
   "outputs": [],
   "source": [
    "dst_tif = 'grid_042_20190118_test1x_merged_reproj.tif'"
   ]
  },
  {
   "cell_type": "code",
   "execution_count": 12,
   "metadata": {
    "collapsed": true
   },
   "outputs": [],
   "source": [
    "raster = rasterio.open(INPUT/dst_tif,'r')\n",
    "data = raster.read()"
   ]
  },
  {
   "cell_type": "code",
   "execution_count": 13,
   "metadata": {},
   "outputs": [
    {
     "data": {
      "text/plain": [
       "{'count': 3,\n",
       " 'crs': CRS({'init': 'epsg:4326'}),\n",
       " 'driver': 'GTiff',\n",
       " 'dtype': 'uint8',\n",
       " 'height': 40642,\n",
       " 'nodata': None,\n",
       " 'transform': Affine(6.688361704925057e-07, 0.0, 39.31369530504978,\n",
       "       0.0, -6.688361704925057e-07, -5.905835679072139),\n",
       " 'width': 40549}"
      ]
     },
     "execution_count": 13,
     "metadata": {},
     "output_type": "execute_result"
    }
   ],
   "source": [
    "raster.meta"
   ]
  },
  {
   "cell_type": "code",
   "execution_count": 14,
   "metadata": {},
   "outputs": [
    {
     "data": {
      "text/plain": [
       "[(256, 256), (256, 256), (256, 256)]"
      ]
     },
     "execution_count": 14,
     "metadata": {},
     "output_type": "execute_result"
    }
   ],
   "source": [
    "raster.block_shapes"
   ]
  },
  {
   "cell_type": "code",
   "execution_count": 15,
   "metadata": {
    "collapsed": true
   },
   "outputs": [],
   "source": [
    "def pad_window(window, pad):\n",
    "    col_off, row_off, width, height = window.flatten()\n",
    "    return Window(col_off-pad//2, row_off-pad//2,width+pad,height+pad)"
   ]
  },
  {
   "cell_type": "code",
   "execution_count": 16,
   "metadata": {
    "collapsed": true
   },
   "outputs": [],
   "source": [
    "# padded windowed reads with blocks and rasterio: https://rasterio.readthedocs.io/en/latest/topics/windowed-rw.html\n",
    "\n",
    "pad = 64\n",
    "windows = []\n",
    "for ji, window in raster.block_windows(1):\n",
    "    assert len(set(raster.block_shapes)) == 1\n",
    "    window_padded = pad_window(window, pad)\n",
    "    windows.append((ji, window_padded))"
   ]
  },
  {
   "cell_type": "code",
   "execution_count": 17,
   "metadata": {},
   "outputs": [
    {
     "data": {
      "text/plain": [
       "25281"
      ]
     },
     "execution_count": 17,
     "metadata": {},
     "output_type": "execute_result"
    }
   ],
   "source": [
    "len(windows)"
   ]
  },
  {
   "cell_type": "code",
   "execution_count": 18,
   "metadata": {
    "scrolled": true
   },
   "outputs": [
    {
     "data": {
      "text/plain": [
       "[((0, 150), Window(col_off=38368, row_off=-32, width=320, height=320)),\n",
       " ((0, 151), Window(col_off=38624, row_off=-32, width=320, height=320)),\n",
       " ((0, 152), Window(col_off=38880, row_off=-32, width=320, height=320)),\n",
       " ((0, 153), Window(col_off=39136, row_off=-32, width=320, height=320)),\n",
       " ((0, 154), Window(col_off=39392, row_off=-32, width=320, height=320)),\n",
       " ((0, 155), Window(col_off=39648, row_off=-32, width=320, height=320)),\n",
       " ((0, 156), Window(col_off=39904, row_off=-32, width=320, height=320)),\n",
       " ((0, 157), Window(col_off=40160, row_off=-32, width=320, height=320)),\n",
       " ((0, 158), Window(col_off=40416, row_off=-32, width=165, height=320)),\n",
       " ((1, 0), Window(col_off=-32, row_off=224, width=320, height=320))]"
      ]
     },
     "execution_count": 18,
     "metadata": {},
     "output_type": "execute_result"
    }
   ],
   "source": [
    "windows[150:160]"
   ]
  },
  {
   "cell_type": "code",
   "execution_count": 19,
   "metadata": {
    "collapsed": true
   },
   "outputs": [],
   "source": [
    "def poly2coords(poly_mask, transform):\n",
    "    geo_coords = [(coord[0],coord[1])*transform for coord in poly[0].exterior.coords for poly in poly_mask]\n",
    "    return Polygon(geo_coords)"
   ]
  },
  {
   "cell_type": "code",
   "execution_count": 20,
   "metadata": {
    "scrolled": true
   },
   "outputs": [
    {
     "name": "stderr",
     "output_type": "stream",
     "text": [
      "100%|██████████| 25281/25281 [01:36<00:00, 261.01it/s]\n"
     ]
    }
   ],
   "source": [
    "mask_thres = 0.7\n",
    "epsilon = 10\n",
    "min_area = 100.\n",
    "erode = 5\n",
    "dilate = 7\n",
    "\n",
    "polys = []\n",
    "\n",
    "for window in tqdm(windows):\n",
    "    win_tnfm = rasterio.windows.transform(window[1], raster.meta['transform'])\n",
    "    win_img = raster.read(window=window[1])[0,:,:]\n",
    "\n",
    "    mask = win_img > (mask_thres*255)\n",
    "    # erode and dilate\n",
    "    mask = cv2.erode(mask.astype('uint8'), np.ones((erode,erode),np.uint8), iterations=1)\n",
    "    mask = cv2.dilate(mask.astype('uint8'), np.ones((dilate,dilate),np.uint8), iterations=1)\n",
    "\n",
    "    # label via connected components\n",
    "    _, instances = cv2.connectedComponents(mask.astype('uint8'))\n",
    "\n",
    "    # make polys from instances\n",
    "    uniques = list(np.unique(instances))\n",
    "    for b in uniques[1:]:\n",
    "        poly = mask_to_polygons(instances==b,epsilon, min_area)\n",
    "        try: \n",
    "            if poly.type == 'MultiPolygon': \n",
    "                geo_coords = poly2coords(poly, win_tnfm)\n",
    "                polys.append(geo_coords)\n",
    "            #else: print('not a MultiPolygon')\n",
    "        except Exception as exc: print(f\"{exc}: {window}\")"
   ]
  },
  {
   "cell_type": "code",
   "execution_count": 21,
   "metadata": {},
   "outputs": [
    {
     "data": {
      "image/svg+xml": [
       "<svg xmlns=\"http://www.w3.org/2000/svg\" xmlns:xlink=\"http://www.w3.org/1999/xlink\" width=\"100.0\" height=\"100.0\" viewBox=\"39.3258886699999 -5.906294687959224 0.0001314664376792507 0.00011273902489783438\" preserveAspectRatio=\"xMinYMin meet\"><g transform=\"matrix(1,0,0,-1,0,-11.81247663689355)\"><path fill-rule=\"evenodd\" fill=\"#66cc99\" stroke=\"#555555\" stroke-width=\"2.629328753585014e-06\" opacity=\"0.6\" d=\"M 39.32589353912722,-5.906186818061647 L 39.32589554563573,-5.906200863621227 L 39.325924305591066,-5.906216246853148 L 39.32594972136555,-5.90625838353189 L 39.325987845027264,-5.9062697537467885 L 39.326001890586845,-5.906289818831903 L 39.326015267310254,-5.906286474651051 L 39.326015267310254,-5.906186818061647 L 39.32589353912722,-5.906186818061647 z\" /></g></svg>"
      ],
      "text/plain": [
       "<shapely.geometry.polygon.Polygon at 0x2458c1320>"
      ]
     },
     "execution_count": 21,
     "metadata": {},
     "output_type": "execute_result"
    }
   ],
   "source": [
    "polys[5]"
   ]
  },
  {
   "cell_type": "code",
   "execution_count": 22,
   "metadata": {},
   "outputs": [
    {
     "data": {
      "text/plain": [
       "1374"
      ]
     },
     "execution_count": 22,
     "metadata": {},
     "output_type": "execute_result"
    }
   ],
   "source": [
    "len(polys)"
   ]
  },
  {
   "cell_type": "code",
   "execution_count": 23,
   "metadata": {
    "collapsed": true
   },
   "outputs": [],
   "source": [
    "# dedupe windowed polys\n",
    "merged_poly = gpd.GeoDataFrame()\n",
    "merged_poly['geometry'] = gpd.GeoSeries(cascaded_union(polys))"
   ]
  },
  {
   "cell_type": "code",
   "execution_count": 24,
   "metadata": {},
   "outputs": [
    {
     "data": {
      "text/plain": [
       "<matplotlib.axes._subplots.AxesSubplot at 0x2458faac8>"
      ]
     },
     "execution_count": 24,
     "metadata": {},
     "output_type": "execute_result"
    },
    {
     "data": {
      "image/png": "[encoded data removed]",
      "text/plain": [
       "<Figure size 720x720 with 1 Axes>"
      ]
     },
     "metadata": {},
     "output_type": "display_data"
    }
   ],
   "source": [
    "merged_poly['geometry'].plot(figsize=(10,10))"
   ]
  },
  {
   "cell_type": "code",
   "execution_count": 25,
   "metadata": {
    "collapsed": true
   },
   "outputs": [],
   "source": [
    "# https://gis.stackexchange.com/questions/271733/geopandas-dissolve-overlapping-polygons\n",
    "# https://nbviewer.jupyter.org/gist/rutgerhofste/6e7c6569616c2550568b9ce9cb4716a3\n",
    "\n",
    "def explode(gdf):\n",
    "    \"\"\"    \n",
    "    Will explode the geodataframe's muti-part geometries into single \n",
    "    geometries. Each row containing a multi-part geometry will be split into\n",
    "    multiple rows with single geometries, thereby increasing the vertical size\n",
    "    of the geodataframe. The index of the input geodataframe is no longer\n",
    "    unique and is replaced with a multi-index. \n",
    "\n",
    "    The output geodataframe has an index based on two columns (multi-index) \n",
    "    i.e. 'level_0' (index of input geodataframe) and 'level_1' which is a new\n",
    "    zero-based index for each single part geometry per multi-part geometry\n",
    "    \n",
    "    Args:\n",
    "        gdf (gpd.GeoDataFrame) : input geodataframe with multi-geometries\n",
    "        \n",
    "    Returns:\n",
    "        gdf (gpd.GeoDataFrame) : exploded geodataframe with each single \n",
    "                                 geometry as a separate entry in the \n",
    "                                 geodataframe. The GeoDataFrame has a multi-\n",
    "                                 index set to columns level_0 and level_1\n",
    "        \n",
    "    \"\"\"\n",
    "    gs = gdf.explode()\n",
    "    gdf2 = gs.reset_index().rename(columns={0: 'geometry'})\n",
    "    gdf_out = gdf2.merge(gdf.drop('geometry', axis=1), left_on='level_0', right_index=True)\n",
    "    gdf_out = gdf_out.set_index(['level_0', 'level_1']).set_geometry('geometry')\n",
    "    gdf_out.crs = gdf.crs\n",
    "    return gdf_out"
   ]
  },
  {
   "cell_type": "code",
   "execution_count": 26,
   "metadata": {
    "collapsed": true
   },
   "outputs": [],
   "source": [
    "gdf_out = explode(merged_poly)\n",
    "gdf_out = gdf_out.reset_index()"
   ]
  },
  {
   "cell_type": "code",
   "execution_count": 27,
   "metadata": {},
   "outputs": [
    {
     "data": {
      "text/html": [
       "<div>\n",
       "<style scoped>\n",
       "    .dataframe tbody tr th:only-of-type {\n",
       "        vertical-align: middle;\n",
       "    }\n",
       "\n",
       "    .dataframe tbody tr th {\n",
       "        vertical-align: top;\n",
       "    }\n",
       "\n",
       "    .dataframe thead th {\n",
       "        text-align: right;\n",
       "    }\n",
       "</style>\n",
       "<table border=\"1\" class=\"dataframe\">\n",
       "  <thead>\n",
       "    <tr style=\"text-align: right;\">\n",
       "      <th></th>\n",
       "      <th>level_0</th>\n",
       "      <th>level_1</th>\n",
       "      <th>geometry</th>\n",
       "    </tr>\n",
       "  </thead>\n",
       "  <tbody>\n",
       "    <tr>\n",
       "      <th>544</th>\n",
       "      <td>0</td>\n",
       "      <td>544</td>\n",
       "      <td>POLYGON ((39.33511716149397 -5.925905446040107...</td>\n",
       "    </tr>\n",
       "    <tr>\n",
       "      <th>545</th>\n",
       "      <td>0</td>\n",
       "      <td>545</td>\n",
       "      <td>POLYGON ((39.33723098105324 -5.925858627508173...</td>\n",
       "    </tr>\n",
       "    <tr>\n",
       "      <th>546</th>\n",
       "      <td>0</td>\n",
       "      <td>546</td>\n",
       "      <td>POLYGON ((39.33303202757488 -5.925865315869879...</td>\n",
       "    </tr>\n",
       "    <tr>\n",
       "      <th>547</th>\n",
       "      <td>0</td>\n",
       "      <td>547</td>\n",
       "      <td>POLYGON ((39.33340657583036 -5.925973561723787...</td>\n",
       "    </tr>\n",
       "    <tr>\n",
       "      <th>548</th>\n",
       "      <td>0</td>\n",
       "      <td>548</td>\n",
       "      <td>POLYGON ((39.33285077297268 -5.92592943188898,...</td>\n",
       "    </tr>\n",
       "    <tr>\n",
       "      <th>549</th>\n",
       "      <td>0</td>\n",
       "      <td>549</td>\n",
       "      <td>POLYGON ((39.33319321709197 -5.925913755822831...</td>\n",
       "    </tr>\n",
       "    <tr>\n",
       "      <th>550</th>\n",
       "      <td>0</td>\n",
       "      <td>550</td>\n",
       "      <td>POLYGON ((39.32121636778696 -5.925847257293275...</td>\n",
       "    </tr>\n",
       "    <tr>\n",
       "      <th>551</th>\n",
       "      <td>0</td>\n",
       "      <td>551</td>\n",
       "      <td>POLYGON ((39.33477635230753 -5.925879564334813...</td>\n",
       "    </tr>\n",
       "    <tr>\n",
       "      <th>552</th>\n",
       "      <td>0</td>\n",
       "      <td>552</td>\n",
       "      <td>POLYGON ((39.33483520989054 -5.925875348412435...</td>\n",
       "    </tr>\n",
       "    <tr>\n",
       "      <th>553</th>\n",
       "      <td>0</td>\n",
       "      <td>553</td>\n",
       "      <td>POLYGON ((39.33279956369665 -5.925849118792386...</td>\n",
       "    </tr>\n",
       "  </tbody>\n",
       "</table>\n",
       "</div>"
      ],
      "text/plain": [
       "     level_0  level_1                                           geometry\n",
       "544        0      544  POLYGON ((39.33511716149397 -5.925905446040107...\n",
       "545        0      545  POLYGON ((39.33723098105324 -5.925858627508173...\n",
       "546        0      546  POLYGON ((39.33303202757488 -5.925865315869879...\n",
       "547        0      547  POLYGON ((39.33340657583036 -5.925973561723787...\n",
       "548        0      548  POLYGON ((39.33285077297268 -5.92592943188898,...\n",
       "549        0      549  POLYGON ((39.33319321709197 -5.925913755822831...\n",
       "550        0      550  POLYGON ((39.32121636778696 -5.925847257293275...\n",
       "551        0      551  POLYGON ((39.33477635230753 -5.925879564334813...\n",
       "552        0      552  POLYGON ((39.33483520989054 -5.925875348412435...\n",
       "553        0      553  POLYGON ((39.33279956369665 -5.925849118792386..."
      ]
     },
     "execution_count": 27,
     "metadata": {},
     "output_type": "execute_result"
    }
   ],
   "source": [
    "gdf_out.tail(10)"
   ]
  },
  {
   "cell_type": "code",
   "execution_count": 28,
   "metadata": {
    "collapsed": true
   },
   "outputs": [],
   "source": [
    "# fill holes\n",
    "gdf_out.geometry = gdf_out.geometry.apply(lambda x: Polygon([coords for coords in x.exterior.coords]))"
   ]
  },
  {
   "cell_type": "code",
   "execution_count": 29,
   "metadata": {
    "collapsed": true
   },
   "outputs": [],
   "source": [
    "gdf_out.drop(columns=['level_0','level_1'], inplace=True)"
   ]
  },
  {
   "cell_type": "code",
   "execution_count": 30,
   "metadata": {},
   "outputs": [
    {
     "data": {
      "text/html": [
       "<div>\n",
       "<style scoped>\n",
       "    .dataframe tbody tr th:only-of-type {\n",
       "        vertical-align: middle;\n",
       "    }\n",
       "\n",
       "    .dataframe tbody tr th {\n",
       "        vertical-align: top;\n",
       "    }\n",
       "\n",
       "    .dataframe thead th {\n",
       "        text-align: right;\n",
       "    }\n",
       "</style>\n",
       "<table border=\"1\" class=\"dataframe\">\n",
       "  <thead>\n",
       "    <tr style=\"text-align: right;\">\n",
       "      <th></th>\n",
       "      <th>geometry</th>\n",
       "    </tr>\n",
       "  </thead>\n",
       "  <tbody>\n",
       "    <tr>\n",
       "      <th>0</th>\n",
       "      <td>POLYGON ((39.33541910386737 -5.933005141989885...</td>\n",
       "    </tr>\n",
       "    <tr>\n",
       "      <th>1</th>\n",
       "      <td>POLYGON ((39.33544093278592 -5.932788954015309...</td>\n",
       "    </tr>\n",
       "    <tr>\n",
       "      <th>2</th>\n",
       "      <td>POLYGON ((39.33536813942263 -5.932867853017452...</td>\n",
       "    </tr>\n",
       "    <tr>\n",
       "      <th>3</th>\n",
       "      <td>POLYGON ((39.33511650327424 -5.93288484702722,...</td>\n",
       "    </tr>\n",
       "    <tr>\n",
       "      <th>4</th>\n",
       "      <td>POLYGON ((39.33529715149344 -5.932885891116247...</td>\n",
       "    </tr>\n",
       "    <tr>\n",
       "      <th>5</th>\n",
       "      <td>POLYGON ((39.33547644485371 -5.932902942118994...</td>\n",
       "    </tr>\n",
       "    <tr>\n",
       "      <th>6</th>\n",
       "      <td>POLYGON ((39.33439177150949 -5.932479369876262...</td>\n",
       "    </tr>\n",
       "    <tr>\n",
       "      <th>7</th>\n",
       "      <td>POLYGON ((39.33442540360594 -5.932361270968963...</td>\n",
       "    </tr>\n",
       "    <tr>\n",
       "      <th>8</th>\n",
       "      <td>POLYGON ((39.33483320338203 -5.932416566159852...</td>\n",
       "    </tr>\n",
       "    <tr>\n",
       "      <th>9</th>\n",
       "      <td>POLYGON ((39.33490543768843 -5.932354692504306...</td>\n",
       "    </tr>\n",
       "  </tbody>\n",
       "</table>\n",
       "</div>"
      ],
      "text/plain": [
       "                                            geometry\n",
       "0  POLYGON ((39.33541910386737 -5.933005141989885...\n",
       "1  POLYGON ((39.33544093278592 -5.932788954015309...\n",
       "2  POLYGON ((39.33536813942263 -5.932867853017452...\n",
       "3  POLYGON ((39.33511650327424 -5.93288484702722,...\n",
       "4  POLYGON ((39.33529715149344 -5.932885891116247...\n",
       "5  POLYGON ((39.33547644485371 -5.932902942118994...\n",
       "6  POLYGON ((39.33439177150949 -5.932479369876262...\n",
       "7  POLYGON ((39.33442540360594 -5.932361270968963...\n",
       "8  POLYGON ((39.33483320338203 -5.932416566159852...\n",
       "9  POLYGON ((39.33490543768843 -5.932354692504306..."
      ]
     },
     "execution_count": 30,
     "metadata": {},
     "output_type": "execute_result"
    }
   ],
   "source": [
    "gdf_out.head(10)"
   ]
  },
  {
   "cell_type": "code",
   "execution_count": 31,
   "metadata": {},
   "outputs": [
    {
     "data": {
      "image/svg+xml": [
       "<svg xmlns=\"http://www.w3.org/2000/svg\" xmlns:xlink=\"http://www.w3.org/1999/xlink\" width=\"100.0\" height=\"100.0\" viewBox=\"39.33545934105139 -5.932914073256911 3.322778095338208e-05 2.1188729880883272e-05\" preserveAspectRatio=\"xMinYMin meet\"><g transform=\"matrix(1,0,0,-1,0,-11.865806957783942)\"><path fill-rule=\"evenodd\" fill=\"#66cc99\" stroke=\"#555555\" stroke-width=\"6.645556190676416e-07\" opacity=\"0.6\" d=\"M 39.33547644485371,-5.932902942118994 L 39.335490000501444,-5.932894115185584 L 39.335489863652015,-5.932897399571868 L 39.33549133817379,-5.932896790530266 L 39.335490000501444,-5.932909498417505 L 39.33548935953345,-5.932909498417505 L 39.33548933166527,-5.9329101672536755 L 39.33546124054612,-5.932912842598357 L 39.33546637625243,-5.932909498417505 L 39.335460571709945,-5.932909498417505 L 39.33547644485371,-5.932902942118994 z\" /></g></svg>"
      ],
      "text/plain": [
       "<shapely.geometry.polygon.Polygon at 0x246362748>"
      ]
     },
     "execution_count": 31,
     "metadata": {},
     "output_type": "execute_result"
    }
   ],
   "source": [
    "gdf_out.iloc[5].geometry"
   ]
  },
  {
   "cell_type": "code",
   "execution_count": 32,
   "metadata": {},
   "outputs": [
    {
     "data": {
      "image/svg+xml": [
       "<svg xmlns=\"http://www.w3.org/2000/svg\" xmlns:xlink=\"http://www.w3.org/1999/xlink\" width=\"100.0\" height=\"100.0\" viewBox=\"39.335457181053386 -5.932916233242692 3.754773593556138e-05 2.5508314811517607e-05\" preserveAspectRatio=\"xMinYMin meet\"><g transform=\"matrix(1,0,0,-1,0,-11.865806958170573)\"><path fill-rule=\"evenodd\" fill=\"#66cc99\" stroke=\"#555555\" stroke-width=\"7.509547187112276e-07\" opacity=\"0.6\" d=\"M 39.335459885366,-5.932911374447694 L 39.33545980607935,-5.932911346067307 L 39.33545962860178,-5.932911262091794 L 39.335459460213464,-5.932911161118795 L 39.335459302537245,-5.93291104412144 L 39.33545915709273,-5.932910912227296 L 39.335459025281644,-5.9329107667075 L 39.33545890837433,-5.932910608964503 L 39.33545880749749,-5.9329104405185635 L 39.33545872362332,-5.932910262993083 L 39.33545865756016,-5.932910078098973 L 39.33545860994471,-5.932909887618158 L 39.33545858123585,-5.932909693386405 L 39.33545857171027,-5.93290949727563 L 39.335458581459775,-5.93290930117586 L 39.335458610390404,-5.932909106977015 L 39.33545865822333,-5.932908916550695 L 39.33545872449757,-5.932908731732141 L 39.3354588085744,-5.932908554302551 L 39.33545890964352,-5.932908385971909 L 39.33545902673088,-5.93290822836251 L 39.33545915870804,-5.93290808299332 L 39.33545930430307,-5.932907951265341 L 39.33545946211279,-5.932907834448109 L 39.33545963061629,-5.932907733667454 L 39.33545980818963,-5.932907649894652 L 39.33547550939679,-5.932901164613439 L 39.3354889091551,-5.9328924391894144 L 39.33548908109049,-5.932892339042712 L 39.33548926212601,-5.932892256475891 L 39.335489450469815,-5.932892192306179 L 39.33548964425771,-5.9328921471687135 L 39.33548984157163,-5.932892121510256 L 39.33549004045861,-5.932892115584767 L 39.335490238950094,-5.932892129450898 L 39.33549043508147,-5.932892162971404 L 39.33549062691146,-5.932892215814506 L 39.33549081254138,-5.9328922874571735 L 39.335490990133906,-5.932892377190305 L 39.335491157931266,-5.932892484125739 L 39.33549131427263,-5.932892607205053 L 39.335491457610566,-5.932892745210035 L 39.33549158652635,-5.932892896774739 L 39.335491699744004,-5.932893060399012 L 39.335491796142925,-5.932893234463336 L 39.33549187476897,-5.932893417244859 L 39.335491934843915,-5.932893606934449 L 39.33549197577315,-5.9328938016546 L 39.33549199715158,-5.932893999478013 L 39.33549199876759,-5.932894198446674 L 39.33549196975436,-5.932894894764208 L 39.33549210939737,-5.932894945208022 L 39.335492287035095,-5.932895029944503 L 39.33549245548417,-5.9328951317302465 L 39.33549261311338,-5.932895249579573 L 39.335492758396256,-5.932895382351246 L 39.335492889925895,-5.932895528759525 L 39.33549300642859,-5.932895687386612 L 39.33549310677614,-5.932895856696384 L 39.335493189996804,-5.932896035049271 L 39.33549325528467,-5.9328962207181295 L 39.33549330200751,-5.9328964119049665 L 39.33549332971286,-5.932896606758357 L 39.33549333813244,-5.932896803391369 L 39.33549332718469,-5.932896999899835 L 39.33549198951235,-5.932909707787075 L 39.33549195959292,-5.932909900860761 L 39.33549191097759,-5.932910090093867 L 39.335491844130274,-5.932910273680515 L 39.33549175968893,-5.932910449868708 L 39.33549165845938,-5.932910616977054 L 39.33549154140769,-5.932910773410813 L 39.33549140965089,-5.932910917677114 L 39.33549126444636,-5.9329110483992 L 39.335491107179806,-5.93291116432957 L 39.335491039405966,-5.93291120472559 L 39.335490964838904,-5.932911321698945 L 39.335490847166994,-5.932911472341613 L 39.33549071565102,-5.932911611062338 L 39.335490571492365,-5.932911736593911 L 39.33549041600793,-5.932911847789602 L 39.33549025061805,-5.932911943633643 L 39.335490076833565,-5.932912023250501 L 39.33548989624198,-5.9329120859128786 L 39.33548971049301,-5.932912131048355 L 39.335489521283456,-5.932912158244621 L 39.3354614301643,-5.932914833589303 L 39.33546123346049,-5.932914842585806 L 39.33546103682537,-5.9329148321957685 L 39.335460842164984,-5.932914802519905 L 39.33546065136623,-5.932914753845873 L 39.3354604662786,-5.932914686645486 L 39.3354602886962,-5.93291460157014 L 39.33546012034039,-5.932914499444498 L 39.33545996284311,-5.932914381258497 L 39.33545981773103,-5.932914248157755 L 39.335459686410765,-5.93291410143246 L 39.335459570155244,-5.93291394250487 L 39.33545947009138,-5.932913772915521 L 39.33545938718912,-5.9329135943083005 L 39.33545932225206,-5.932913408414507 L 39.33545927590966,-5.932913217036069 L 39.33545924861114,-5.932913022028083 L 39.33545924062109,-5.932912825280825 L 39.33545925201699,-5.932912628701432 L 39.33545928268835,-5.932912434195413 L 39.33545933233788,-5.932912243648178 L 39.3354594004843,-5.932912058906766 L 39.33545948646705,-5.932911881761935 L 39.33545958945267,-5.932911713930811 L 39.33545970844288,-5.932911557040234 L 39.33545984228429,-5.9329114126109985 L 39.335459885366,-5.932911374447694 z\" /></g></svg>"
      ],
      "text/plain": [
       "<shapely.geometry.polygon.Polygon at 0x24596eba8>"
      ]
     },
     "execution_count": 32,
     "metadata": {},
     "output_type": "execute_result"
    }
   ],
   "source": [
    "gdf_out.iloc[5].geometry.buffer(0.000002, cap_style=1, join_style=1)"
   ]
  },
  {
   "cell_type": "code",
   "execution_count": 33,
   "metadata": {
    "collapsed": true
   },
   "outputs": [],
   "source": [
    "# buffer polys\n",
    "gdf_out['geometry_buffered'] = gdf_out.geometry.buffer(0.000002, cap_style=1, join_style=1)"
   ]
  },
  {
   "cell_type": "code",
   "execution_count": 34,
   "metadata": {},
   "outputs": [
    {
     "data": {
      "text/plain": [
       "Affine(1495134.4501354313, 0.0, -58779260.21270748,\n",
       "       0.0, -1495134.4501354313, -8830018.380619733)"
      ]
     },
     "execution_count": 34,
     "metadata": {},
     "output_type": "execute_result"
    }
   ],
   "source": [
    "~raster.meta['transform']"
   ]
  },
  {
   "cell_type": "code",
   "execution_count": 35,
   "metadata": {
    "collapsed": true
   },
   "outputs": [],
   "source": [
    "gdf_out['coords_pixel'] = gdf_out.geometry_buffered.apply(lambda x: Polygon([np.round(coords*~raster.meta['transform']) for coords in x.exterior.coords]))"
   ]
  },
  {
   "cell_type": "code",
   "execution_count": 36,
   "metadata": {
    "collapsed": true
   },
   "outputs": [],
   "source": [
    "gdf_out['coords_geo_rounded'] = gdf_out.geometry_buffered.apply(lambda x: Polygon([np.round(coords,6) for coords in x.exterior.coords]))"
   ]
  },
  {
   "cell_type": "code",
   "execution_count": 37,
   "metadata": {
    "scrolled": true
   },
   "outputs": [
    {
     "data": {
      "text/html": [
       "<div>\n",
       "<style scoped>\n",
       "    .dataframe tbody tr th:only-of-type {\n",
       "        vertical-align: middle;\n",
       "    }\n",
       "\n",
       "    .dataframe tbody tr th {\n",
       "        vertical-align: top;\n",
       "    }\n",
       "\n",
       "    .dataframe thead th {\n",
       "        text-align: right;\n",
       "    }\n",
       "</style>\n",
       "<table border=\"1\" class=\"dataframe\">\n",
       "  <thead>\n",
       "    <tr style=\"text-align: right;\">\n",
       "      <th></th>\n",
       "      <th>geometry</th>\n",
       "      <th>geometry_buffered</th>\n",
       "      <th>coords_pixel</th>\n",
       "      <th>coords_geo_rounded</th>\n",
       "    </tr>\n",
       "  </thead>\n",
       "  <tbody>\n",
       "    <tr>\n",
       "      <th>0</th>\n",
       "      <td>POLYGON ((39.33541910386737 -5.933005141989885...</td>\n",
       "      <td>POLYGON ((39.33541308434184 -5.933007141989886...</td>\n",
       "      <td>POLYGON ((32471 40625, 32471 40625, 32470 4062...</td>\n",
       "      <td>POLYGON ((39.335413 -5.933007, 39.335413 -5.93...</td>\n",
       "    </tr>\n",
       "    <tr>\n",
       "      <th>1</th>\n",
       "      <td>POLYGON ((39.33544093278592 -5.932788954015309...</td>\n",
       "      <td>POLYGON ((39.33543994125422 -5.932787098088375...</td>\n",
       "      <td>POLYGON ((32511 40296, 32520 40287, 32520 4028...</td>\n",
       "      <td>POLYGON ((39.33544 -5.932787, 39.335446 -5.932...</td>\n",
       "    </tr>\n",
       "    <tr>\n",
       "      <th>2</th>\n",
       "      <td>POLYGON ((39.33536813942263 -5.932867853017452...</td>\n",
       "      <td>POLYGON ((39.33536607110349 -5.932866080282638...</td>\n",
       "      <td>POLYGON ((32401 40414, 32399 40369, 32399 4036...</td>\n",
       "      <td>POLYGON ((39.335366 -5.932866, 39.335365 -5.93...</td>\n",
       "    </tr>\n",
       "    <tr>\n",
       "      <th>3</th>\n",
       "      <td>POLYGON ((39.33511650327424 -5.93288484702722,...</td>\n",
       "      <td>POLYGON ((39.33511558848227 -5.932883043772769...</td>\n",
       "      <td>POLYGON ((32026 40439, 32030 40437, 32031 4043...</td>\n",
       "      <td>POLYGON ((39.335116 -5.932883, 39.335118 -5.93...</td>\n",
       "    </tr>\n",
       "    <tr>\n",
       "      <th>4</th>\n",
       "      <td>POLYGON ((39.33529715149344 -5.932885891116247...</td>\n",
       "      <td>POLYGON ((39.33529523898535 -5.932884091309337...</td>\n",
       "      <td>POLYGON ((32295 40441, 32295 40437, 32295 4043...</td>\n",
       "      <td>POLYGON ((39.335295 -5.932884, 39.335295 -5.93...</td>\n",
       "    </tr>\n",
       "  </tbody>\n",
       "</table>\n",
       "</div>"
      ],
      "text/plain": [
       "                                            geometry  \\\n",
       "0  POLYGON ((39.33541910386737 -5.933005141989885...   \n",
       "1  POLYGON ((39.33544093278592 -5.932788954015309...   \n",
       "2  POLYGON ((39.33536813942263 -5.932867853017452...   \n",
       "3  POLYGON ((39.33511650327424 -5.93288484702722,...   \n",
       "4  POLYGON ((39.33529715149344 -5.932885891116247...   \n",
       "\n",
       "                                   geometry_buffered  \\\n",
       "0  POLYGON ((39.33541308434184 -5.933007141989886...   \n",
       "1  POLYGON ((39.33543994125422 -5.932787098088375...   \n",
       "2  POLYGON ((39.33536607110349 -5.932866080282638...   \n",
       "3  POLYGON ((39.33511558848227 -5.932883043772769...   \n",
       "4  POLYGON ((39.33529523898535 -5.932884091309337...   \n",
       "\n",
       "                                        coords_pixel  \\\n",
       "0  POLYGON ((32471 40625, 32471 40625, 32470 4062...   \n",
       "1  POLYGON ((32511 40296, 32520 40287, 32520 4028...   \n",
       "2  POLYGON ((32401 40414, 32399 40369, 32399 4036...   \n",
       "3  POLYGON ((32026 40439, 32030 40437, 32031 4043...   \n",
       "4  POLYGON ((32295 40441, 32295 40437, 32295 4043...   \n",
       "\n",
       "                                  coords_geo_rounded  \n",
       "0  POLYGON ((39.335413 -5.933007, 39.335413 -5.93...  \n",
       "1  POLYGON ((39.33544 -5.932787, 39.335446 -5.932...  \n",
       "2  POLYGON ((39.335366 -5.932866, 39.335365 -5.93...  \n",
       "3  POLYGON ((39.335116 -5.932883, 39.335118 -5.93...  \n",
       "4  POLYGON ((39.335295 -5.932884, 39.335295 -5.93...  "
      ]
     },
     "execution_count": 37,
     "metadata": {},
     "output_type": "execute_result"
    }
   ],
   "source": [
    "gdf_out.head()"
   ]
  },
  {
   "cell_type": "code",
   "execution_count": 38,
   "metadata": {
    "collapsed": true
   },
   "outputs": [],
   "source": [
    "gdf_out.geometry = gdf_out.geometry_buffered"
   ]
  },
  {
   "cell_type": "code",
   "execution_count": 39,
   "metadata": {
    "collapsed": true
   },
   "outputs": [],
   "source": [
    "gdf_out.geometry.to_file(f'znz-20190118/grid_042_20190118_07.geojson', driver='GeoJSON')"
   ]
  },
  {
   "cell_type": "markdown",
   "metadata": {},
   "source": [
    "# Crop detected building images for classifier"
   ]
  },
  {
   "cell_type": "code",
   "execution_count": 40,
   "metadata": {
    "collapsed": true
   },
   "outputs": [],
   "source": [
    "cog_rst = rasterio.open(COG_URL,'r')"
   ]
  },
  {
   "cell_type": "code",
   "execution_count": 41,
   "metadata": {},
   "outputs": [
    {
     "data": {
      "text/plain": [
       "{'count': 3,\n",
       " 'crs': CRS({'init': 'epsg:32737'}),\n",
       " 'driver': 'GTiff',\n",
       " 'dtype': 'uint8',\n",
       " 'height': 40592,\n",
       " 'nodata': None,\n",
       " 'transform': Affine(0.07398000359535217, 0.0, 534722.5625,\n",
       "       0.0, -0.07398000359535217, 9347193.0),\n",
       " 'width': 40551}"
      ]
     },
     "execution_count": 41,
     "metadata": {},
     "output_type": "execute_result"
    }
   ],
   "source": [
    "cog_rst.meta"
   ]
  },
  {
   "cell_type": "code",
   "execution_count": 43,
   "metadata": {},
   "outputs": [
    {
     "data": {
      "text/html": [
       "<div>\n",
       "<style scoped>\n",
       "    .dataframe tbody tr th:only-of-type {\n",
       "        vertical-align: middle;\n",
       "    }\n",
       "\n",
       "    .dataframe tbody tr th {\n",
       "        vertical-align: top;\n",
       "    }\n",
       "\n",
       "    .dataframe thead th {\n",
       "        text-align: right;\n",
       "    }\n",
       "</style>\n",
       "<table border=\"1\" class=\"dataframe\">\n",
       "  <thead>\n",
       "    <tr style=\"text-align: right;\">\n",
       "      <th></th>\n",
       "      <th>id</th>\n",
       "      <th>geometry</th>\n",
       "    </tr>\n",
       "  </thead>\n",
       "  <tbody>\n",
       "    <tr>\n",
       "      <th>549</th>\n",
       "      <td>549</td>\n",
       "      <td>POLYGON ((39.33319121709197 -5.925916336254251...</td>\n",
       "    </tr>\n",
       "    <tr>\n",
       "      <th>550</th>\n",
       "      <td>550</td>\n",
       "      <td>POLYGON ((39.32118186754836 -5.925845296098843...</td>\n",
       "    </tr>\n",
       "    <tr>\n",
       "      <th>551</th>\n",
       "      <td>551</td>\n",
       "      <td>POLYGON ((39.33473255063748 -5.925809365537983...</td>\n",
       "    </tr>\n",
       "    <tr>\n",
       "      <th>552</th>\n",
       "      <td>552</td>\n",
       "      <td>POLYGON ((39.33483495121217 -5.925877331613258...</td>\n",
       "    </tr>\n",
       "    <tr>\n",
       "      <th>553</th>\n",
       "      <td>553</td>\n",
       "      <td>POLYGON ((39.33280527643467 -5.925849097958112...</td>\n",
       "    </tr>\n",
       "  </tbody>\n",
       "</table>\n",
       "</div>"
      ],
      "text/plain": [
       "      id                                           geometry\n",
       "549  549  POLYGON ((39.33319121709197 -5.925916336254251...\n",
       "550  550  POLYGON ((39.32118186754836 -5.925845296098843...\n",
       "551  551  POLYGON ((39.33473255063748 -5.925809365537983...\n",
       "552  552  POLYGON ((39.33483495121217 -5.925877331613258...\n",
       "553  553  POLYGON ((39.33280527643467 -5.925849097958112..."
      ]
     },
     "execution_count": 43,
     "metadata": {},
     "output_type": "execute_result"
    }
   ],
   "source": [
    "df = gpd.read_file(f'znz-20190118/grid_042_20190118_07.geojson')\n",
    "df.tail()"
   ]
  },
  {
   "cell_type": "code",
   "execution_count": 44,
   "metadata": {},
   "outputs": [
    {
     "data": {
      "text/plain": [
       "'epsg:32737'"
      ]
     },
     "execution_count": 44,
     "metadata": {},
     "output_type": "execute_result"
    }
   ],
   "source": [
    "cog_rst.meta['crs']['init']"
   ]
  },
  {
   "cell_type": "code",
   "execution_count": 45,
   "metadata": {},
   "outputs": [
    {
     "name": "stderr",
     "output_type": "stream",
     "text": [
      "554it [00:40, 13.58it/s]\n"
     ]
    }
   ],
   "source": [
    "from pyproj import Proj, transform\n",
    "\n",
    "condition = 'test'\n",
    "grid_num = '042'\n",
    "CLASSIFY = Path('znz-20190118-classify')\n",
    "CLASSIFY.mkdir(exist_ok=True)\n",
    "(CLASSIFY/f'{condition}_{grid_num}').mkdir(exist_ok=True)\n",
    "\n",
    "for i,row in tqdm(df[(df['geometry'].type=='Polygon')].iterrows()):\n",
    "    \n",
    "    poly = row['geometry'].buffer(0.00001) # padding around detection to crop\n",
    "#     print(poly.bounds)\n",
    "\n",
    "    inProj = Proj(init='epsg:4326') \n",
    "    outProj = Proj(init=cog_rst.meta['crs']['init']) # convert to cog crs\n",
    "    \n",
    "    # convert from geocoords to display window\n",
    "    minx, miny = transform(inProj,outProj,*poly.bounds[:2])\n",
    "    maxx, maxy = transform(inProj,outProj,*poly.bounds[2:])\n",
    "    ul = cog_rst.index(minx, miny)\n",
    "    lr = cog_rst.index(maxx, maxy)\n",
    "    disp_minx, disp_maxx, disp_miny, disp_maxy = lr[0], (max(ul[0],0)+1), max(ul[1],0), (lr[1]+1)\n",
    "\n",
    "    if disp_maxx-disp_minx <= 150: disp_maxx += 25; disp_minx-=25; \n",
    "    if disp_maxy-disp_miny <= 150: disp_maxy += 25; disp_miny-=25;\n",
    "\n",
    "    window = (max(disp_minx,0), disp_maxx), (max(disp_miny,0), disp_maxy)\n",
    "    data = cog_rst.read(window=window)\n",
    "    \n",
    "    pk = str(row.id).zfill(5)\n",
    "    tile_bgr = cv2.cvtColor(np.rollaxis(data,0,3), cv2.COLOR_RGB2BGR)\n",
    "    cv2.imwrite(f\"{str(CLASSIFY)}/{condition}_{grid_num}/{grid_num}_{pk}_{condition}.jpg\", tile_bgr)\n"
   ]
  },
  {
   "cell_type": "markdown",
   "metadata": {},
   "source": [
    "# Update Preds with Classifer Results"
   ]
  },
  {
   "cell_type": "code",
   "execution_count": 46,
   "metadata": {
    "collapsed": true
   },
   "outputs": [],
   "source": [
    "import pandas as pd"
   ]
  },
  {
   "cell_type": "code",
   "execution_count": 47,
   "metadata": {},
   "outputs": [
    {
     "data": {
      "text/html": [
       "<div>\n",
       "<style scoped>\n",
       "    .dataframe tbody tr th:only-of-type {\n",
       "        vertical-align: middle;\n",
       "    }\n",
       "\n",
       "    .dataframe tbody tr th {\n",
       "        vertical-align: top;\n",
       "    }\n",
       "\n",
       "    .dataframe thead th {\n",
       "        text-align: right;\n",
       "    }\n",
       "</style>\n",
       "<table border=\"1\" class=\"dataframe\">\n",
       "  <thead>\n",
       "    <tr style=\"text-align: right;\">\n",
       "      <th></th>\n",
       "      <th>id</th>\n",
       "      <th>geometry</th>\n",
       "    </tr>\n",
       "  </thead>\n",
       "  <tbody>\n",
       "    <tr>\n",
       "      <th>549</th>\n",
       "      <td>549</td>\n",
       "      <td>POLYGON ((39.33319121709197 -5.925916336254251...</td>\n",
       "    </tr>\n",
       "    <tr>\n",
       "      <th>550</th>\n",
       "      <td>550</td>\n",
       "      <td>POLYGON ((39.32118186754836 -5.925845296098843...</td>\n",
       "    </tr>\n",
       "    <tr>\n",
       "      <th>551</th>\n",
       "      <td>551</td>\n",
       "      <td>POLYGON ((39.33473255063748 -5.925809365537983...</td>\n",
       "    </tr>\n",
       "    <tr>\n",
       "      <th>552</th>\n",
       "      <td>552</td>\n",
       "      <td>POLYGON ((39.33483495121217 -5.925877331613258...</td>\n",
       "    </tr>\n",
       "    <tr>\n",
       "      <th>553</th>\n",
       "      <td>553</td>\n",
       "      <td>POLYGON ((39.33280527643467 -5.925849097958112...</td>\n",
       "    </tr>\n",
       "  </tbody>\n",
       "</table>\n",
       "</div>"
      ],
      "text/plain": [
       "      id                                           geometry\n",
       "549  549  POLYGON ((39.33319121709197 -5.925916336254251...\n",
       "550  550  POLYGON ((39.32118186754836 -5.925845296098843...\n",
       "551  551  POLYGON ((39.33473255063748 -5.925809365537983...\n",
       "552  552  POLYGON ((39.33483495121217 -5.925877331613258...\n",
       "553  553  POLYGON ((39.33280527643467 -5.925849097958112..."
      ]
     },
     "execution_count": 47,
     "metadata": {},
     "output_type": "execute_result"
    }
   ],
   "source": [
    "df = gpd.read_file(f'znz-20190118/grid_042_20190118_07.geojson')\n",
    "df.tail()"
   ]
  },
  {
   "cell_type": "code",
   "execution_count": 48,
   "metadata": {
    "collapsed": true
   },
   "outputs": [],
   "source": [
    "preds = pd.read_csv('znz-20190118/20190118_042_preds01.csv')"
   ]
  },
  {
   "cell_type": "code",
   "execution_count": 49,
   "metadata": {},
   "outputs": [
    {
     "data": {
      "text/html": [
       "<div>\n",
       "<style scoped>\n",
       "    .dataframe tbody tr th:only-of-type {\n",
       "        vertical-align: middle;\n",
       "    }\n",
       "\n",
       "    .dataframe tbody tr th {\n",
       "        vertical-align: top;\n",
       "    }\n",
       "\n",
       "    .dataframe thead th {\n",
       "        text-align: right;\n",
       "    }\n",
       "</style>\n",
       "<table border=\"1\" class=\"dataframe\">\n",
       "  <thead>\n",
       "    <tr style=\"text-align: right;\">\n",
       "      <th></th>\n",
       "      <th>Complete</th>\n",
       "      <th>Incomplete</th>\n",
       "      <th>Foundation</th>\n",
       "      <th>Empty</th>\n",
       "      <th>fname</th>\n",
       "      <th>predicted_class</th>\n",
       "    </tr>\n",
       "  </thead>\n",
       "  <tbody>\n",
       "    <tr>\n",
       "      <th>549</th>\n",
       "      <td>0.386892</td>\n",
       "      <td>0.605134</td>\n",
       "      <td>0.007770</td>\n",
       "      <td>0.000204</td>\n",
       "      <td>042_00549_test.jpg</td>\n",
       "      <td>Incomplete</td>\n",
       "    </tr>\n",
       "    <tr>\n",
       "      <th>550</th>\n",
       "      <td>0.989759</td>\n",
       "      <td>0.008848</td>\n",
       "      <td>0.001385</td>\n",
       "      <td>0.000008</td>\n",
       "      <td>042_00550_test.jpg</td>\n",
       "      <td>Complete</td>\n",
       "    </tr>\n",
       "    <tr>\n",
       "      <th>551</th>\n",
       "      <td>0.860170</td>\n",
       "      <td>0.136741</td>\n",
       "      <td>0.003020</td>\n",
       "      <td>0.000069</td>\n",
       "      <td>042_00551_test.jpg</td>\n",
       "      <td>Complete</td>\n",
       "    </tr>\n",
       "    <tr>\n",
       "      <th>552</th>\n",
       "      <td>0.892912</td>\n",
       "      <td>0.098531</td>\n",
       "      <td>0.006926</td>\n",
       "      <td>0.001631</td>\n",
       "      <td>042_00552_test.jpg</td>\n",
       "      <td>Complete</td>\n",
       "    </tr>\n",
       "    <tr>\n",
       "      <th>553</th>\n",
       "      <td>0.976437</td>\n",
       "      <td>0.021409</td>\n",
       "      <td>0.001920</td>\n",
       "      <td>0.000234</td>\n",
       "      <td>042_00553_test.jpg</td>\n",
       "      <td>Complete</td>\n",
       "    </tr>\n",
       "  </tbody>\n",
       "</table>\n",
       "</div>"
      ],
      "text/plain": [
       "     Complete  Incomplete  Foundation     Empty               fname  \\\n",
       "549  0.386892    0.605134    0.007770  0.000204  042_00549_test.jpg   \n",
       "550  0.989759    0.008848    0.001385  0.000008  042_00550_test.jpg   \n",
       "551  0.860170    0.136741    0.003020  0.000069  042_00551_test.jpg   \n",
       "552  0.892912    0.098531    0.006926  0.001631  042_00552_test.jpg   \n",
       "553  0.976437    0.021409    0.001920  0.000234  042_00553_test.jpg   \n",
       "\n",
       "    predicted_class  \n",
       "549      Incomplete  \n",
       "550        Complete  \n",
       "551        Complete  \n",
       "552        Complete  \n",
       "553        Complete  "
      ]
     },
     "execution_count": 49,
     "metadata": {},
     "output_type": "execute_result"
    }
   ],
   "source": [
    "preds.tail()"
   ]
  },
  {
   "cell_type": "code",
   "execution_count": 50,
   "metadata": {
    "collapsed": true
   },
   "outputs": [],
   "source": [
    "df['conf_foundation'] = preds['Foundation']\n",
    "df['conf_completed'] = preds['Complete']\n",
    "df['conf_unfinished'] = preds['Incomplete']"
   ]
  },
  {
   "cell_type": "code",
   "execution_count": 51,
   "metadata": {},
   "outputs": [
    {
     "data": {
      "text/html": [
       "<div>\n",
       "<style scoped>\n",
       "    .dataframe tbody tr th:only-of-type {\n",
       "        vertical-align: middle;\n",
       "    }\n",
       "\n",
       "    .dataframe tbody tr th {\n",
       "        vertical-align: top;\n",
       "    }\n",
       "\n",
       "    .dataframe thead th {\n",
       "        text-align: right;\n",
       "    }\n",
       "</style>\n",
       "<table border=\"1\" class=\"dataframe\">\n",
       "  <thead>\n",
       "    <tr style=\"text-align: right;\">\n",
       "      <th></th>\n",
       "      <th>id</th>\n",
       "      <th>geometry</th>\n",
       "      <th>conf_foundation</th>\n",
       "      <th>conf_completed</th>\n",
       "      <th>conf_unfinished</th>\n",
       "    </tr>\n",
       "  </thead>\n",
       "  <tbody>\n",
       "    <tr>\n",
       "      <th>549</th>\n",
       "      <td>549</td>\n",
       "      <td>POLYGON ((39.33319121709197 -5.925916336254251...</td>\n",
       "      <td>0.007770</td>\n",
       "      <td>0.386892</td>\n",
       "      <td>0.605134</td>\n",
       "    </tr>\n",
       "    <tr>\n",
       "      <th>550</th>\n",
       "      <td>550</td>\n",
       "      <td>POLYGON ((39.32118186754836 -5.925845296098843...</td>\n",
       "      <td>0.001385</td>\n",
       "      <td>0.989759</td>\n",
       "      <td>0.008848</td>\n",
       "    </tr>\n",
       "    <tr>\n",
       "      <th>551</th>\n",
       "      <td>551</td>\n",
       "      <td>POLYGON ((39.33473255063748 -5.925809365537983...</td>\n",
       "      <td>0.003020</td>\n",
       "      <td>0.860170</td>\n",
       "      <td>0.136741</td>\n",
       "    </tr>\n",
       "    <tr>\n",
       "      <th>552</th>\n",
       "      <td>552</td>\n",
       "      <td>POLYGON ((39.33483495121217 -5.925877331613258...</td>\n",
       "      <td>0.006926</td>\n",
       "      <td>0.892912</td>\n",
       "      <td>0.098531</td>\n",
       "    </tr>\n",
       "    <tr>\n",
       "      <th>553</th>\n",
       "      <td>553</td>\n",
       "      <td>POLYGON ((39.33280527643467 -5.925849097958112...</td>\n",
       "      <td>0.001920</td>\n",
       "      <td>0.976437</td>\n",
       "      <td>0.021409</td>\n",
       "    </tr>\n",
       "  </tbody>\n",
       "</table>\n",
       "</div>"
      ],
      "text/plain": [
       "      id                                           geometry  conf_foundation  \\\n",
       "549  549  POLYGON ((39.33319121709197 -5.925916336254251...         0.007770   \n",
       "550  550  POLYGON ((39.32118186754836 -5.925845296098843...         0.001385   \n",
       "551  551  POLYGON ((39.33473255063748 -5.925809365537983...         0.003020   \n",
       "552  552  POLYGON ((39.33483495121217 -5.925877331613258...         0.006926   \n",
       "553  553  POLYGON ((39.33280527643467 -5.925849097958112...         0.001920   \n",
       "\n",
       "     conf_completed  conf_unfinished  \n",
       "549        0.386892         0.605134  \n",
       "550        0.989759         0.008848  \n",
       "551        0.860170         0.136741  \n",
       "552        0.892912         0.098531  \n",
       "553        0.976437         0.021409  "
      ]
     },
     "execution_count": 51,
     "metadata": {},
     "output_type": "execute_result"
    }
   ],
   "source": [
    "df.tail()"
   ]
  },
  {
   "cell_type": "code",
   "execution_count": 61,
   "metadata": {
    "collapsed": true
   },
   "outputs": [],
   "source": [
    "df_noempty = df[(df[['conf_foundation','conf_unfinished', 'conf_completed']] > 0.5).any(axis=1)]"
   ]
  },
  {
   "cell_type": "code",
   "execution_count": 69,
   "metadata": {},
   "outputs": [
    {
     "data": {
      "text/plain": [
       "((554, 5), (524, 5))"
      ]
     },
     "execution_count": 69,
     "metadata": {},
     "output_type": "execute_result"
    }
   ],
   "source": [
    "df.shape, df_noempty.shape"
   ]
  },
  {
   "cell_type": "code",
   "execution_count": 63,
   "metadata": {
    "collapsed": true
   },
   "outputs": [],
   "source": [
    "from shapely import wkt\n",
    "\n",
    "def create_geojson(df, save_path):\n",
    "    newgpd = gpd.GeoDataFrame()\n",
    "    newgpd.geometry = df['geometry']#.apply(wkt.loads)\n",
    "    newgpd['cat'] = df[['conf_foundation', 'conf_unfinished','conf_completed']].idxmax(axis=1)\n",
    "    newgpd['building_id'] = df['id']\n",
    "    newgpd['conf_foundation'] = np.round(df['conf_foundation'],4)\n",
    "    newgpd['conf_completed'] = np.round(df['conf_completed'],4)\n",
    "    newgpd['conf_unfinished'] = np.round(df['conf_unfinished'],4)\n",
    "    newgpd.to_file(f'{save_path}.geojson', driver='GeoJSON')\n",
    "    \n",
    "    return newgpd"
   ]
  },
  {
   "cell_type": "code",
   "execution_count": 65,
   "metadata": {
    "scrolled": false
   },
   "outputs": [
    {
     "data": {
      "text/html": [
       "<div>\n",
       "<style scoped>\n",
       "    .dataframe tbody tr th:only-of-type {\n",
       "        vertical-align: middle;\n",
       "    }\n",
       "\n",
       "    .dataframe tbody tr th {\n",
       "        vertical-align: top;\n",
       "    }\n",
       "\n",
       "    .dataframe thead th {\n",
       "        text-align: right;\n",
       "    }\n",
       "</style>\n",
       "<table border=\"1\" class=\"dataframe\">\n",
       "  <thead>\n",
       "    <tr style=\"text-align: right;\">\n",
       "      <th></th>\n",
       "      <th>geometry</th>\n",
       "      <th>cat</th>\n",
       "      <th>building_id</th>\n",
       "      <th>conf_foundation</th>\n",
       "      <th>conf_completed</th>\n",
       "      <th>conf_unfinished</th>\n",
       "    </tr>\n",
       "  </thead>\n",
       "  <tbody>\n",
       "    <tr>\n",
       "      <th>0</th>\n",
       "      <td>POLYGON ((39.33541308434184 -5.933007141989886...</td>\n",
       "      <td>conf_completed</td>\n",
       "      <td>0</td>\n",
       "      <td>0.0049</td>\n",
       "      <td>0.9765</td>\n",
       "      <td>0.0185</td>\n",
       "    </tr>\n",
       "    <tr>\n",
       "      <th>1</th>\n",
       "      <td>POLYGON ((39.33543994125422 -5.932787098088375...</td>\n",
       "      <td>conf_completed</td>\n",
       "      <td>1</td>\n",
       "      <td>0.0096</td>\n",
       "      <td>0.6228</td>\n",
       "      <td>0.3669</td>\n",
       "    </tr>\n",
       "    <tr>\n",
       "      <th>2</th>\n",
       "      <td>POLYGON ((39.33536607110349 -5.932866080282638...</td>\n",
       "      <td>conf_completed</td>\n",
       "      <td>2</td>\n",
       "      <td>0.0062</td>\n",
       "      <td>0.9525</td>\n",
       "      <td>0.0408</td>\n",
       "    </tr>\n",
       "    <tr>\n",
       "      <th>3</th>\n",
       "      <td>POLYGON ((39.33511558848227 -5.932883043772769...</td>\n",
       "      <td>conf_completed</td>\n",
       "      <td>3</td>\n",
       "      <td>0.0189</td>\n",
       "      <td>0.9730</td>\n",
       "      <td>0.0079</td>\n",
       "    </tr>\n",
       "    <tr>\n",
       "      <th>4</th>\n",
       "      <td>POLYGON ((39.33529523898535 -5.932884091309337...</td>\n",
       "      <td>conf_foundation</td>\n",
       "      <td>4</td>\n",
       "      <td>0.8673</td>\n",
       "      <td>0.0280</td>\n",
       "      <td>0.1034</td>\n",
       "    </tr>\n",
       "    <tr>\n",
       "      <th>5</th>\n",
       "      <td>POLYGON ((39.335459885366 -5.932911374447694, ...</td>\n",
       "      <td>conf_completed</td>\n",
       "      <td>5</td>\n",
       "      <td>0.0099</td>\n",
       "      <td>0.9259</td>\n",
       "      <td>0.0628</td>\n",
       "    </tr>\n",
       "    <tr>\n",
       "      <th>6</th>\n",
       "      <td>POLYGON ((39.33438984916733 -5.932477552135353...</td>\n",
       "      <td>conf_completed</td>\n",
       "      <td>6</td>\n",
       "      <td>0.0319</td>\n",
       "      <td>0.8994</td>\n",
       "      <td>0.0680</td>\n",
       "    </tr>\n",
       "    <tr>\n",
       "      <th>7</th>\n",
       "      <td>POLYGON ((39.33442321596969 -5.932359678070838...</td>\n",
       "      <td>conf_foundation</td>\n",
       "      <td>7</td>\n",
       "      <td>0.9799</td>\n",
       "      <td>0.0026</td>\n",
       "      <td>0.0174</td>\n",
       "    </tr>\n",
       "    <tr>\n",
       "      <th>8</th>\n",
       "      <td>POLYGON ((39.33483331857509 -5.932414569479969...</td>\n",
       "      <td>conf_completed</td>\n",
       "      <td>8</td>\n",
       "      <td>0.0260</td>\n",
       "      <td>0.9409</td>\n",
       "      <td>0.0330</td>\n",
       "    </tr>\n",
       "    <tr>\n",
       "      <th>9</th>\n",
       "      <td>POLYGON ((39.3348661602123 -5.932396651226719,...</td>\n",
       "      <td>conf_foundation</td>\n",
       "      <td>9</td>\n",
       "      <td>0.9872</td>\n",
       "      <td>0.0003</td>\n",
       "      <td>0.0123</td>\n",
       "    </tr>\n",
       "    <tr>\n",
       "      <th>10</th>\n",
       "      <td>POLYGON ((39.33516360434185 -5.932569052441188...</td>\n",
       "      <td>conf_unfinished</td>\n",
       "      <td>10</td>\n",
       "      <td>0.0436</td>\n",
       "      <td>0.0521</td>\n",
       "      <td>0.9042</td>\n",
       "    </tr>\n",
       "    <tr>\n",
       "      <th>11</th>\n",
       "      <td>POLYGON ((39.33810477223328 -5.932302906506486...</td>\n",
       "      <td>conf_completed</td>\n",
       "      <td>11</td>\n",
       "      <td>0.0012</td>\n",
       "      <td>0.9929</td>\n",
       "      <td>0.0059</td>\n",
       "    </tr>\n",
       "    <tr>\n",
       "      <th>12</th>\n",
       "      <td>POLYGON ((39.33469141667489 -5.932233319541511...</td>\n",
       "      <td>conf_completed</td>\n",
       "      <td>12</td>\n",
       "      <td>0.0038</td>\n",
       "      <td>0.9625</td>\n",
       "      <td>0.0336</td>\n",
       "    </tr>\n",
       "    <tr>\n",
       "      <th>14</th>\n",
       "      <td>POLYGON ((39.33471149464216 -5.932107790942267...</td>\n",
       "      <td>conf_completed</td>\n",
       "      <td>14</td>\n",
       "      <td>0.0030</td>\n",
       "      <td>0.9651</td>\n",
       "      <td>0.0318</td>\n",
       "    </tr>\n",
       "    <tr>\n",
       "      <th>15</th>\n",
       "      <td>POLYGON ((39.33486449547123 -5.932225950842082...</td>\n",
       "      <td>conf_foundation</td>\n",
       "      <td>15</td>\n",
       "      <td>0.8448</td>\n",
       "      <td>0.0610</td>\n",
       "      <td>0.0939</td>\n",
       "    </tr>\n",
       "    <tr>\n",
       "      <th>16</th>\n",
       "      <td>POLYGON ((39.33867058730493 -5.93222158633233,...</td>\n",
       "      <td>conf_foundation</td>\n",
       "      <td>16</td>\n",
       "      <td>0.9376</td>\n",
       "      <td>0.0062</td>\n",
       "      <td>0.0557</td>\n",
       "    </tr>\n",
       "    <tr>\n",
       "      <th>17</th>\n",
       "      <td>POLYGON ((39.33453900106787 -5.932199807939289...</td>\n",
       "      <td>conf_foundation</td>\n",
       "      <td>17</td>\n",
       "      <td>0.9842</td>\n",
       "      <td>0.0021</td>\n",
       "      <td>0.0136</td>\n",
       "    </tr>\n",
       "    <tr>\n",
       "      <th>18</th>\n",
       "      <td>POLYGON ((39.3343898709898 -5.932088218778979,...</td>\n",
       "      <td>conf_unfinished</td>\n",
       "      <td>18</td>\n",
       "      <td>0.0031</td>\n",
       "      <td>0.3217</td>\n",
       "      <td>0.6752</td>\n",
       "    </tr>\n",
       "    <tr>\n",
       "      <th>19</th>\n",
       "      <td>POLYGON ((39.33477015712155 -5.932364061648268...</td>\n",
       "      <td>conf_completed</td>\n",
       "      <td>19</td>\n",
       "      <td>0.0090</td>\n",
       "      <td>0.9716</td>\n",
       "      <td>0.0193</td>\n",
       "    </tr>\n",
       "    <tr>\n",
       "      <th>20</th>\n",
       "      <td>POLYGON ((39.33442977711487 -5.932224622140914...</td>\n",
       "      <td>conf_unfinished</td>\n",
       "      <td>20</td>\n",
       "      <td>0.0372</td>\n",
       "      <td>0.0252</td>\n",
       "      <td>0.9375</td>\n",
       "    </tr>\n",
       "    <tr>\n",
       "      <th>21</th>\n",
       "      <td>POLYGON ((39.33458508031131 -5.93232745154397,...</td>\n",
       "      <td>conf_completed</td>\n",
       "      <td>21</td>\n",
       "      <td>0.0058</td>\n",
       "      <td>0.9764</td>\n",
       "      <td>0.0169</td>\n",
       "    </tr>\n",
       "    <tr>\n",
       "      <th>22</th>\n",
       "      <td>POLYGON ((39.31662356735274 -5.931892126316002...</td>\n",
       "      <td>conf_completed</td>\n",
       "      <td>22</td>\n",
       "      <td>0.0199</td>\n",
       "      <td>0.9579</td>\n",
       "      <td>0.0220</td>\n",
       "    </tr>\n",
       "    <tr>\n",
       "      <th>23</th>\n",
       "      <td>POLYGON ((39.33434745253463 -5.931889537506315...</td>\n",
       "      <td>conf_unfinished</td>\n",
       "      <td>23</td>\n",
       "      <td>0.0071</td>\n",
       "      <td>0.0350</td>\n",
       "      <td>0.9578</td>\n",
       "    </tr>\n",
       "    <tr>\n",
       "      <th>24</th>\n",
       "      <td>POLYGON ((39.33901398202999 -5.931877652781326...</td>\n",
       "      <td>conf_unfinished</td>\n",
       "      <td>24</td>\n",
       "      <td>0.0216</td>\n",
       "      <td>0.0549</td>\n",
       "      <td>0.9234</td>\n",
       "    </tr>\n",
       "    <tr>\n",
       "      <th>25</th>\n",
       "      <td>POLYGON ((39.33832427974232 -5.931946603599193...</td>\n",
       "      <td>conf_completed</td>\n",
       "      <td>25</td>\n",
       "      <td>0.1930</td>\n",
       "      <td>0.7848</td>\n",
       "      <td>0.0207</td>\n",
       "    </tr>\n",
       "    <tr>\n",
       "      <th>27</th>\n",
       "      <td>POLYGON ((39.33884244416679 -5.931783508574073...</td>\n",
       "      <td>conf_unfinished</td>\n",
       "      <td>27</td>\n",
       "      <td>0.0125</td>\n",
       "      <td>0.4609</td>\n",
       "      <td>0.5262</td>\n",
       "    </tr>\n",
       "    <tr>\n",
       "      <th>28</th>\n",
       "      <td>POLYGON ((39.33844966722754 -5.931668328579484...</td>\n",
       "      <td>conf_unfinished</td>\n",
       "      <td>28</td>\n",
       "      <td>0.0255</td>\n",
       "      <td>0.2878</td>\n",
       "      <td>0.6860</td>\n",
       "    </tr>\n",
       "    <tr>\n",
       "      <th>29</th>\n",
       "      <td>POLYGON ((39.33456101131947 -5.931677241495968...</td>\n",
       "      <td>conf_completed</td>\n",
       "      <td>29</td>\n",
       "      <td>0.0042</td>\n",
       "      <td>0.9477</td>\n",
       "      <td>0.0477</td>\n",
       "    </tr>\n",
       "    <tr>\n",
       "      <th>30</th>\n",
       "      <td>POLYGON ((39.33875994157887 -5.931700233920338...</td>\n",
       "      <td>conf_completed</td>\n",
       "      <td>30</td>\n",
       "      <td>0.0023</td>\n",
       "      <td>0.8838</td>\n",
       "      <td>0.1138</td>\n",
       "    </tr>\n",
       "    <tr>\n",
       "      <th>31</th>\n",
       "      <td>POLYGON ((39.33885225038676 -5.931547156296909...</td>\n",
       "      <td>conf_completed</td>\n",
       "      <td>31</td>\n",
       "      <td>0.0022</td>\n",
       "      <td>0.9393</td>\n",
       "      <td>0.0583</td>\n",
       "    </tr>\n",
       "    <tr>\n",
       "      <th>...</th>\n",
       "      <td>...</td>\n",
       "      <td>...</td>\n",
       "      <td>...</td>\n",
       "      <td>...</td>\n",
       "      <td>...</td>\n",
       "      <td>...</td>\n",
       "    </tr>\n",
       "    <tr>\n",
       "      <th>516</th>\n",
       "      <td>POLYGON ((39.32997544627573 -5.909520959863041...</td>\n",
       "      <td>conf_completed</td>\n",
       "      <td>516</td>\n",
       "      <td>0.0056</td>\n",
       "      <td>0.9402</td>\n",
       "      <td>0.0541</td>\n",
       "    </tr>\n",
       "    <tr>\n",
       "      <th>519</th>\n",
       "      <td>POLYGON ((39.31706962977811 -5.908723152743847...</td>\n",
       "      <td>conf_foundation</td>\n",
       "      <td>519</td>\n",
       "      <td>0.8892</td>\n",
       "      <td>0.0363</td>\n",
       "      <td>0.0739</td>\n",
       "    </tr>\n",
       "    <tr>\n",
       "      <th>522</th>\n",
       "      <td>POLYGON ((39.33305217612061 -5.922938369393886...</td>\n",
       "      <td>conf_unfinished</td>\n",
       "      <td>522</td>\n",
       "      <td>0.0056</td>\n",
       "      <td>0.3563</td>\n",
       "      <td>0.6380</td>\n",
       "    </tr>\n",
       "    <tr>\n",
       "      <th>523</th>\n",
       "      <td>POLYGON ((39.33817138722164 -5.922936229770732...</td>\n",
       "      <td>conf_completed</td>\n",
       "      <td>523</td>\n",
       "      <td>0.0012</td>\n",
       "      <td>0.9849</td>\n",
       "      <td>0.0139</td>\n",
       "    </tr>\n",
       "    <tr>\n",
       "      <th>524</th>\n",
       "      <td>POLYGON ((39.33282678783083 -5.922935906785112...</td>\n",
       "      <td>conf_unfinished</td>\n",
       "      <td>524</td>\n",
       "      <td>0.0071</td>\n",
       "      <td>0.2956</td>\n",
       "      <td>0.6972</td>\n",
       "    </tr>\n",
       "    <tr>\n",
       "      <th>525</th>\n",
       "      <td>POLYGON ((39.33322058933927 -5.922896907534302...</td>\n",
       "      <td>conf_completed</td>\n",
       "      <td>525</td>\n",
       "      <td>0.0013</td>\n",
       "      <td>0.9839</td>\n",
       "      <td>0.0147</td>\n",
       "    </tr>\n",
       "    <tr>\n",
       "      <th>526</th>\n",
       "      <td>POLYGON ((39.33300896145427 -5.922818131482432...</td>\n",
       "      <td>conf_completed</td>\n",
       "      <td>526</td>\n",
       "      <td>0.0016</td>\n",
       "      <td>0.9764</td>\n",
       "      <td>0.0220</td>\n",
       "    </tr>\n",
       "    <tr>\n",
       "      <th>528</th>\n",
       "      <td>POLYGON ((39.33224264273082 -5.924826627088935...</td>\n",
       "      <td>conf_completed</td>\n",
       "      <td>528</td>\n",
       "      <td>0.0346</td>\n",
       "      <td>0.5139</td>\n",
       "      <td>0.4504</td>\n",
       "    </tr>\n",
       "    <tr>\n",
       "      <th>530</th>\n",
       "      <td>POLYGON ((39.33264993587161 -5.92481829126718,...</td>\n",
       "      <td>conf_completed</td>\n",
       "      <td>530</td>\n",
       "      <td>0.0047</td>\n",
       "      <td>0.7661</td>\n",
       "      <td>0.2290</td>\n",
       "    </tr>\n",
       "    <tr>\n",
       "      <th>531</th>\n",
       "      <td>POLYGON ((39.33203287141632 -5.924831850229602...</td>\n",
       "      <td>conf_unfinished</td>\n",
       "      <td>531</td>\n",
       "      <td>0.0169</td>\n",
       "      <td>0.1633</td>\n",
       "      <td>0.8197</td>\n",
       "    </tr>\n",
       "    <tr>\n",
       "      <th>532</th>\n",
       "      <td>POLYGON ((39.3351828464774 -5.924829970855941,...</td>\n",
       "      <td>conf_unfinished</td>\n",
       "      <td>532</td>\n",
       "      <td>0.0043</td>\n",
       "      <td>0.0343</td>\n",
       "      <td>0.9613</td>\n",
       "    </tr>\n",
       "    <tr>\n",
       "      <th>533</th>\n",
       "      <td>POLYGON ((39.33507560352462 -5.924819565330548...</td>\n",
       "      <td>conf_foundation</td>\n",
       "      <td>533</td>\n",
       "      <td>0.9930</td>\n",
       "      <td>0.0001</td>\n",
       "      <td>0.0067</td>\n",
       "    </tr>\n",
       "    <tr>\n",
       "      <th>534</th>\n",
       "      <td>POLYGON ((39.33528735007528 -5.924819883707047...</td>\n",
       "      <td>conf_unfinished</td>\n",
       "      <td>534</td>\n",
       "      <td>0.0201</td>\n",
       "      <td>0.3160</td>\n",
       "      <td>0.6630</td>\n",
       "    </tr>\n",
       "    <tr>\n",
       "      <th>535</th>\n",
       "      <td>POLYGON ((39.33216403526266 -5.924737568594819...</td>\n",
       "      <td>conf_completed</td>\n",
       "      <td>535</td>\n",
       "      <td>0.0074</td>\n",
       "      <td>0.7192</td>\n",
       "      <td>0.2732</td>\n",
       "    </tr>\n",
       "    <tr>\n",
       "      <th>537</th>\n",
       "      <td>POLYGON ((39.33575954798666 -5.924805976944739...</td>\n",
       "      <td>conf_completed</td>\n",
       "      <td>537</td>\n",
       "      <td>0.0006</td>\n",
       "      <td>0.9973</td>\n",
       "      <td>0.0021</td>\n",
       "    </tr>\n",
       "    <tr>\n",
       "      <th>538</th>\n",
       "      <td>POLYGON ((39.33267877147335 -5.924781090799505...</td>\n",
       "      <td>conf_completed</td>\n",
       "      <td>538</td>\n",
       "      <td>0.2374</td>\n",
       "      <td>0.5563</td>\n",
       "      <td>0.2047</td>\n",
       "    </tr>\n",
       "    <tr>\n",
       "      <th>539</th>\n",
       "      <td>POLYGON ((39.31863734202206 -5.92590911221281,...</td>\n",
       "      <td>conf_completed</td>\n",
       "      <td>539</td>\n",
       "      <td>0.0054</td>\n",
       "      <td>0.9611</td>\n",
       "      <td>0.0089</td>\n",
       "    </tr>\n",
       "    <tr>\n",
       "      <th>540</th>\n",
       "      <td>POLYGON ((39.33525440898475 -5.925920146109818...</td>\n",
       "      <td>conf_completed</td>\n",
       "      <td>540</td>\n",
       "      <td>0.0060</td>\n",
       "      <td>0.9110</td>\n",
       "      <td>0.0828</td>\n",
       "    </tr>\n",
       "    <tr>\n",
       "      <th>542</th>\n",
       "      <td>POLYGON ((39.33697827334667 -5.925890030524548...</td>\n",
       "      <td>conf_unfinished</td>\n",
       "      <td>542</td>\n",
       "      <td>0.0044</td>\n",
       "      <td>0.3621</td>\n",
       "      <td>0.6334</td>\n",
       "    </tr>\n",
       "    <tr>\n",
       "      <th>543</th>\n",
       "      <td>POLYGON ((39.33549604856366 -5.925879649129817...</td>\n",
       "      <td>conf_completed</td>\n",
       "      <td>543</td>\n",
       "      <td>0.0029</td>\n",
       "      <td>0.9452</td>\n",
       "      <td>0.0517</td>\n",
       "    </tr>\n",
       "    <tr>\n",
       "      <th>544</th>\n",
       "      <td>POLYGON ((39.33504180802886 -5.925845401330789...</td>\n",
       "      <td>conf_completed</td>\n",
       "      <td>544</td>\n",
       "      <td>0.0015</td>\n",
       "      <td>0.9519</td>\n",
       "      <td>0.0462</td>\n",
       "    </tr>\n",
       "    <tr>\n",
       "      <th>545</th>\n",
       "      <td>POLYGON ((39.33722901989189 -5.925859019740443...</td>\n",
       "      <td>conf_completed</td>\n",
       "      <td>545</td>\n",
       "      <td>0.0038</td>\n",
       "      <td>0.9267</td>\n",
       "      <td>0.0691</td>\n",
       "    </tr>\n",
       "    <tr>\n",
       "      <th>546</th>\n",
       "      <td>POLYGON ((39.33293649776701 -5.925891314107108...</td>\n",
       "      <td>conf_completed</td>\n",
       "      <td>546</td>\n",
       "      <td>0.0016</td>\n",
       "      <td>0.9930</td>\n",
       "      <td>0.0054</td>\n",
       "    </tr>\n",
       "    <tr>\n",
       "      <th>547</th>\n",
       "      <td>POLYGON ((39.3333383670301 -5.9258640963358, 3...</td>\n",
       "      <td>conf_foundation</td>\n",
       "      <td>547</td>\n",
       "      <td>0.9687</td>\n",
       "      <td>0.0029</td>\n",
       "      <td>0.0282</td>\n",
       "    </tr>\n",
       "    <tr>\n",
       "      <th>548</th>\n",
       "      <td>POLYGON ((39.33282222893057 -5.92586978048364,...</td>\n",
       "      <td>conf_completed</td>\n",
       "      <td>548</td>\n",
       "      <td>0.0022</td>\n",
       "      <td>0.9888</td>\n",
       "      <td>0.0090</td>\n",
       "    </tr>\n",
       "    <tr>\n",
       "      <th>549</th>\n",
       "      <td>POLYGON ((39.33319121709197 -5.925916336254251...</td>\n",
       "      <td>conf_unfinished</td>\n",
       "      <td>549</td>\n",
       "      <td>0.0078</td>\n",
       "      <td>0.3869</td>\n",
       "      <td>0.6051</td>\n",
       "    </tr>\n",
       "    <tr>\n",
       "      <th>550</th>\n",
       "      <td>POLYGON ((39.32118186754836 -5.925845296098843...</td>\n",
       "      <td>conf_completed</td>\n",
       "      <td>550</td>\n",
       "      <td>0.0014</td>\n",
       "      <td>0.9898</td>\n",
       "      <td>0.0088</td>\n",
       "    </tr>\n",
       "    <tr>\n",
       "      <th>551</th>\n",
       "      <td>POLYGON ((39.33473255063748 -5.925809365537983...</td>\n",
       "      <td>conf_completed</td>\n",
       "      <td>551</td>\n",
       "      <td>0.0030</td>\n",
       "      <td>0.8602</td>\n",
       "      <td>0.1367</td>\n",
       "    </tr>\n",
       "    <tr>\n",
       "      <th>552</th>\n",
       "      <td>POLYGON ((39.33483495121217 -5.925877331613258...</td>\n",
       "      <td>conf_completed</td>\n",
       "      <td>552</td>\n",
       "      <td>0.0069</td>\n",
       "      <td>0.8929</td>\n",
       "      <td>0.0985</td>\n",
       "    </tr>\n",
       "    <tr>\n",
       "      <th>553</th>\n",
       "      <td>POLYGON ((39.33280527643467 -5.925849097958112...</td>\n",
       "      <td>conf_completed</td>\n",
       "      <td>553</td>\n",
       "      <td>0.0019</td>\n",
       "      <td>0.9764</td>\n",
       "      <td>0.0214</td>\n",
       "    </tr>\n",
       "  </tbody>\n",
       "</table>\n",
       "<p>524 rows × 6 columns</p>\n",
       "</div>"
      ],
      "text/plain": [
       "                                              geometry              cat  \\\n",
       "0    POLYGON ((39.33541308434184 -5.933007141989886...   conf_completed   \n",
       "1    POLYGON ((39.33543994125422 -5.932787098088375...   conf_completed   \n",
       "2    POLYGON ((39.33536607110349 -5.932866080282638...   conf_completed   \n",
       "3    POLYGON ((39.33511558848227 -5.932883043772769...   conf_completed   \n",
       "4    POLYGON ((39.33529523898535 -5.932884091309337...  conf_foundation   \n",
       "5    POLYGON ((39.335459885366 -5.932911374447694, ...   conf_completed   \n",
       "6    POLYGON ((39.33438984916733 -5.932477552135353...   conf_completed   \n",
       "7    POLYGON ((39.33442321596969 -5.932359678070838...  conf_foundation   \n",
       "8    POLYGON ((39.33483331857509 -5.932414569479969...   conf_completed   \n",
       "9    POLYGON ((39.3348661602123 -5.932396651226719,...  conf_foundation   \n",
       "10   POLYGON ((39.33516360434185 -5.932569052441188...  conf_unfinished   \n",
       "11   POLYGON ((39.33810477223328 -5.932302906506486...   conf_completed   \n",
       "12   POLYGON ((39.33469141667489 -5.932233319541511...   conf_completed   \n",
       "14   POLYGON ((39.33471149464216 -5.932107790942267...   conf_completed   \n",
       "15   POLYGON ((39.33486449547123 -5.932225950842082...  conf_foundation   \n",
       "16   POLYGON ((39.33867058730493 -5.93222158633233,...  conf_foundation   \n",
       "17   POLYGON ((39.33453900106787 -5.932199807939289...  conf_foundation   \n",
       "18   POLYGON ((39.3343898709898 -5.932088218778979,...  conf_unfinished   \n",
       "19   POLYGON ((39.33477015712155 -5.932364061648268...   conf_completed   \n",
       "20   POLYGON ((39.33442977711487 -5.932224622140914...  conf_unfinished   \n",
       "21   POLYGON ((39.33458508031131 -5.93232745154397,...   conf_completed   \n",
       "22   POLYGON ((39.31662356735274 -5.931892126316002...   conf_completed   \n",
       "23   POLYGON ((39.33434745253463 -5.931889537506315...  conf_unfinished   \n",
       "24   POLYGON ((39.33901398202999 -5.931877652781326...  conf_unfinished   \n",
       "25   POLYGON ((39.33832427974232 -5.931946603599193...   conf_completed   \n",
       "27   POLYGON ((39.33884244416679 -5.931783508574073...  conf_unfinished   \n",
       "28   POLYGON ((39.33844966722754 -5.931668328579484...  conf_unfinished   \n",
       "29   POLYGON ((39.33456101131947 -5.931677241495968...   conf_completed   \n",
       "30   POLYGON ((39.33875994157887 -5.931700233920338...   conf_completed   \n",
       "31   POLYGON ((39.33885225038676 -5.931547156296909...   conf_completed   \n",
       "..                                                 ...              ...   \n",
       "516  POLYGON ((39.32997544627573 -5.909520959863041...   conf_completed   \n",
       "519  POLYGON ((39.31706962977811 -5.908723152743847...  conf_foundation   \n",
       "522  POLYGON ((39.33305217612061 -5.922938369393886...  conf_unfinished   \n",
       "523  POLYGON ((39.33817138722164 -5.922936229770732...   conf_completed   \n",
       "524  POLYGON ((39.33282678783083 -5.922935906785112...  conf_unfinished   \n",
       "525  POLYGON ((39.33322058933927 -5.922896907534302...   conf_completed   \n",
       "526  POLYGON ((39.33300896145427 -5.922818131482432...   conf_completed   \n",
       "528  POLYGON ((39.33224264273082 -5.924826627088935...   conf_completed   \n",
       "530  POLYGON ((39.33264993587161 -5.92481829126718,...   conf_completed   \n",
       "531  POLYGON ((39.33203287141632 -5.924831850229602...  conf_unfinished   \n",
       "532  POLYGON ((39.3351828464774 -5.924829970855941,...  conf_unfinished   \n",
       "533  POLYGON ((39.33507560352462 -5.924819565330548...  conf_foundation   \n",
       "534  POLYGON ((39.33528735007528 -5.924819883707047...  conf_unfinished   \n",
       "535  POLYGON ((39.33216403526266 -5.924737568594819...   conf_completed   \n",
       "537  POLYGON ((39.33575954798666 -5.924805976944739...   conf_completed   \n",
       "538  POLYGON ((39.33267877147335 -5.924781090799505...   conf_completed   \n",
       "539  POLYGON ((39.31863734202206 -5.92590911221281,...   conf_completed   \n",
       "540  POLYGON ((39.33525440898475 -5.925920146109818...   conf_completed   \n",
       "542  POLYGON ((39.33697827334667 -5.925890030524548...  conf_unfinished   \n",
       "543  POLYGON ((39.33549604856366 -5.925879649129817...   conf_completed   \n",
       "544  POLYGON ((39.33504180802886 -5.925845401330789...   conf_completed   \n",
       "545  POLYGON ((39.33722901989189 -5.925859019740443...   conf_completed   \n",
       "546  POLYGON ((39.33293649776701 -5.925891314107108...   conf_completed   \n",
       "547  POLYGON ((39.3333383670301 -5.9258640963358, 3...  conf_foundation   \n",
       "548  POLYGON ((39.33282222893057 -5.92586978048364,...   conf_completed   \n",
       "549  POLYGON ((39.33319121709197 -5.925916336254251...  conf_unfinished   \n",
       "550  POLYGON ((39.32118186754836 -5.925845296098843...   conf_completed   \n",
       "551  POLYGON ((39.33473255063748 -5.925809365537983...   conf_completed   \n",
       "552  POLYGON ((39.33483495121217 -5.925877331613258...   conf_completed   \n",
       "553  POLYGON ((39.33280527643467 -5.925849097958112...   conf_completed   \n",
       "\n",
       "     building_id  conf_foundation  conf_completed  conf_unfinished  \n",
       "0              0           0.0049          0.9765           0.0185  \n",
       "1              1           0.0096          0.6228           0.3669  \n",
       "2              2           0.0062          0.9525           0.0408  \n",
       "3              3           0.0189          0.9730           0.0079  \n",
       "4              4           0.8673          0.0280           0.1034  \n",
       "5              5           0.0099          0.9259           0.0628  \n",
       "6              6           0.0319          0.8994           0.0680  \n",
       "7              7           0.9799          0.0026           0.0174  \n",
       "8              8           0.0260          0.9409           0.0330  \n",
       "9              9           0.9872          0.0003           0.0123  \n",
       "10            10           0.0436          0.0521           0.9042  \n",
       "11            11           0.0012          0.9929           0.0059  \n",
       "12            12           0.0038          0.9625           0.0336  \n",
       "14            14           0.0030          0.9651           0.0318  \n",
       "15            15           0.8448          0.0610           0.0939  \n",
       "16            16           0.9376          0.0062           0.0557  \n",
       "17            17           0.9842          0.0021           0.0136  \n",
       "18            18           0.0031          0.3217           0.6752  \n",
       "19            19           0.0090          0.9716           0.0193  \n",
       "20            20           0.0372          0.0252           0.9375  \n",
       "21            21           0.0058          0.9764           0.0169  \n",
       "22            22           0.0199          0.9579           0.0220  \n",
       "23            23           0.0071          0.0350           0.9578  \n",
       "24            24           0.0216          0.0549           0.9234  \n",
       "25            25           0.1930          0.7848           0.0207  \n",
       "27            27           0.0125          0.4609           0.5262  \n",
       "28            28           0.0255          0.2878           0.6860  \n",
       "29            29           0.0042          0.9477           0.0477  \n",
       "30            30           0.0023          0.8838           0.1138  \n",
       "31            31           0.0022          0.9393           0.0583  \n",
       "..           ...              ...             ...              ...  \n",
       "516          516           0.0056          0.9402           0.0541  \n",
       "519          519           0.8892          0.0363           0.0739  \n",
       "522          522           0.0056          0.3563           0.6380  \n",
       "523          523           0.0012          0.9849           0.0139  \n",
       "524          524           0.0071          0.2956           0.6972  \n",
       "525          525           0.0013          0.9839           0.0147  \n",
       "526          526           0.0016          0.9764           0.0220  \n",
       "528          528           0.0346          0.5139           0.4504  \n",
       "530          530           0.0047          0.7661           0.2290  \n",
       "531          531           0.0169          0.1633           0.8197  \n",
       "532          532           0.0043          0.0343           0.9613  \n",
       "533          533           0.9930          0.0001           0.0067  \n",
       "534          534           0.0201          0.3160           0.6630  \n",
       "535          535           0.0074          0.7192           0.2732  \n",
       "537          537           0.0006          0.9973           0.0021  \n",
       "538          538           0.2374          0.5563           0.2047  \n",
       "539          539           0.0054          0.9611           0.0089  \n",
       "540          540           0.0060          0.9110           0.0828  \n",
       "542          542           0.0044          0.3621           0.6334  \n",
       "543          543           0.0029          0.9452           0.0517  \n",
       "544          544           0.0015          0.9519           0.0462  \n",
       "545          545           0.0038          0.9267           0.0691  \n",
       "546          546           0.0016          0.9930           0.0054  \n",
       "547          547           0.9687          0.0029           0.0282  \n",
       "548          548           0.0022          0.9888           0.0090  \n",
       "549          549           0.0078          0.3869           0.6051  \n",
       "550          550           0.0014          0.9898           0.0088  \n",
       "551          551           0.0030          0.8602           0.1367  \n",
       "552          552           0.0069          0.8929           0.0985  \n",
       "553          553           0.0019          0.9764           0.0214  \n",
       "\n",
       "[524 rows x 6 columns]"
      ]
     },
     "execution_count": 65,
     "metadata": {},
     "output_type": "execute_result"
    }
   ],
   "source": [
    "create_geojson(df_noempty, 'znz-20190118/grid_042_20190118_07_classes')"
   ]
  }
 ],
 "metadata": {
  "kernelspec": {
   "display_name": "Python [conda env:fastai-cpu]",
   "language": "python",
   "name": "conda-env-fastai-cpu-py"
  },
  "language_info": {
   "codemirror_mode": {
    "name": "ipython",
    "version": 3
   },
   "file_extension": ".py",
   "mimetype": "text/x-python",
   "name": "python",
   "nbconvert_exporter": "python",
   "pygments_lexer": "ipython3",
   "version": "3.6.4"
  }
 },
 "nbformat": 4,
 "nbformat_minor": 2
}
