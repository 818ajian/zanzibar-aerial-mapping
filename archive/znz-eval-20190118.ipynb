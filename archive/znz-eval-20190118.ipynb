{
 "cells": [
  {
   "cell_type": "markdown",
   "metadata": {},
   "source": [
    "Eval scripts adapted from https://github.com/SpaceNetChallenge/utilities/tree/master/python"
   ]
  },
  {
   "cell_type": "code",
   "execution_count": 1,
   "metadata": {
    "collapsed": true
   },
   "outputs": [],
   "source": [
    "import numpy as np\n",
    "import geopandas as gpd\n",
    "import rtree\n",
    "\n",
    "from pathlib import Path\n",
    "\n",
    "import matplotlib.pyplot as plt\n",
    "import matplotlib as mpl\n",
    "%matplotlib inline\n",
    "\n",
    "from tqdm import tqdm"
   ]
  },
  {
   "cell_type": "code",
   "execution_count": 2,
   "metadata": {
    "collapsed": true
   },
   "outputs": [],
   "source": [
    "def create_rtree_from_poly(poly_list):\n",
    "    # create index\n",
    "    index = rtree.index.Index(interleaved=False)\n",
    "    for idx, building in enumerate(poly_list):\n",
    "        minx, miny, maxx, maxy = building.bounds\n",
    "        envelope = (minx, maxx, miny, maxy)\n",
    "        index.insert(idx, envelope)\n",
    "\n",
    "    return index\n",
    "\n",
    "def search_rtree(test_building, index):\n",
    "    # input test poly ogr.Geometry  and rtree index\n",
    "    if test_building.type == 'Polygon' or \\\n",
    "                    test_building.type == 'MultiPolygon':\n",
    "        minx, miny, maxx, maxy = test_building.bounds\n",
    "        envelope = (minx, maxx, miny, maxy)    \n",
    "        fidlist = index.intersection(envelope)\n",
    "    else:\n",
    "        fidlist = []\n",
    "\n",
    "    return fidlist\n"
   ]
  },
  {
   "cell_type": "code",
   "execution_count": 3,
   "metadata": {
    "collapsed": true
   },
   "outputs": [],
   "source": [
    "def iou(test_poly, truth_polys, truth_index=[]):\n",
    "    fidlistArray = []\n",
    "    iou_list = []\n",
    "    \n",
    "    if truth_index:\n",
    "        fidlist = search_rtree(test_poly, truth_index)\n",
    "\n",
    "        for fid in fidlist:\n",
    "            if not test_poly.is_valid:\n",
    "                test_poly = test_poly.buffer(0.0)\n",
    "\n",
    "            intersection_result = test_poly.intersection(truth_polys[fid].buffer(0.0))\n",
    "            fidlistArray.append(fid)\n",
    "\n",
    "            if intersection_result.type == 'Polygon' or \\\n",
    "                            intersection_result.type == 'MultiPolygon':\n",
    "                intersection_area = intersection_result.area\n",
    "                union_area = test_poly.union(truth_polys[fid].buffer(0.0)).area\n",
    "                iou_list.append(intersection_area / union_area)\n",
    "\n",
    "            else:\n",
    "                iou_list.append(0)\n",
    "\n",
    "    else:\n",
    "        for idx, truth_poly in enumerate(truth_polys):\n",
    "            if not test_poly.is_valid or not truth_poly.is_valid:\n",
    "                test_poly = test_poly.buffer(0.0)\n",
    "                truth_poly = truth_poly.buffer(0.0)\n",
    "#                 print(f'fixed geom error at {idx}')\n",
    "\n",
    "            intersection_result = test_poly.intersection(truth_poly)\n",
    "            #print(idx, intersection_result.type)\n",
    "\n",
    "            if intersection_result.type == 'Polygon' or \\\n",
    "                            intersection_result.type == 'MultiPolygon':\n",
    "                intersection_area = intersection_result.area\n",
    "                union_area = test_poly.union(truth_poly).area\n",
    "                iou_list.append(intersection_area / union_area)\n",
    "    #             print(f'found intersect at test_poly {i} with truth poly {idx}')\n",
    "    #             print(intersection_area/union_area)\n",
    "            else:    \n",
    "                iou_list.append(0)\n",
    "                \n",
    "    return iou_list, fidlistArray"
   ]
  },
  {
   "cell_type": "code",
   "execution_count": 4,
   "metadata": {
    "collapsed": true
   },
   "outputs": [],
   "source": [
    "def score(test_polys, truth_polys, threshold=0.5, truth_index=[],\n",
    "          resultGeoJsonName = [],\n",
    "          imageId = []):\n",
    "\n",
    "    # Define internal functions\n",
    "\n",
    "    # Find detections using threshold/argmax/IoU for test polygons\n",
    "    true_pos_count = 0\n",
    "    false_pos_count = 0\n",
    "    truth_poly_count = len(truth_polys)\n",
    "    \n",
    "    true_ids = []\n",
    "    false_ids = []\n",
    "\n",
    "    for idx, test_poly in tqdm(enumerate(test_polys)):\n",
    "        if truth_polys:\n",
    "            iou_list, fidlist = iou(test_poly, truth_polys, truth_index)\n",
    "            if not iou_list:\n",
    "                maxiou = 0\n",
    "            else:\n",
    "                maxiou = np.max(iou_list)\n",
    "\n",
    "#             print(maxiou, iou_list, fidlist)\n",
    "            if maxiou >= threshold:\n",
    "                true_pos_count += 1\n",
    "                true_ids.append(idx)\n",
    "                minx, miny, maxx, maxy = truth_polys[fidlist[np.argmax(iou_list)]].bounds\n",
    "                envelope = (minx, maxx, miny, maxy)   \n",
    "                truth_index.delete(fidlist[np.argmax(iou_list)], envelope)\n",
    "                #del truth_polys[fidlist[np.argmax(iou_list)]]\n",
    "            else:\n",
    "                false_pos_count += 1\n",
    "                false_ids.append(idx)\n",
    "        else:\n",
    "            false_pos_count += 1\n",
    "            false_ids.append(idx)\n",
    "\n",
    "    false_neg_count = truth_poly_count - true_pos_count\n",
    "\n",
    "    return true_pos_count, false_pos_count, false_neg_count, true_ids, false_ids"
   ]
  },
  {
   "cell_type": "code",
   "execution_count": 5,
   "metadata": {
    "collapsed": true
   },
   "outputs": [],
   "source": [
    "def evalfunction(image_id, test_polys, truth_polys, truth_index=[], resultGeoJsonName=[], threshold = 0.5):\n",
    "\n",
    "    if len(truth_polys)==0:\n",
    "        true_pos_count = 0\n",
    "        false_pos_count = len(test_polys)\n",
    "        false_neg_count = 0\n",
    "    else:\n",
    "        true_pos_count, false_pos_count, false_neg_count, true_ids, false_ids = score(test_polys, truth_polys,\n",
    "                                                                 truth_index=truth_index,\n",
    "                                                                 resultGeoJsonName=resultGeoJsonName,\n",
    "                                                                 imageId=image_id,\n",
    "                                                                 threshold=threshold\n",
    "                                                                 )\n",
    "\n",
    "\n",
    "    if (true_pos_count > 0):\n",
    "\n",
    "        precision = float(true_pos_count) / (float(true_pos_count) + float(false_pos_count))\n",
    "        recall = float(true_pos_count) / (float(true_pos_count) + float(false_neg_count))\n",
    "        F1score = 2.0 * precision * recall / (precision + recall)\n",
    "    else:\n",
    "        F1score = 0\n",
    "    return ((F1score, true_pos_count, false_pos_count, false_neg_count), true_ids, false_ids, image_id)"
   ]
  },
  {
   "cell_type": "code",
   "execution_count": 6,
   "metadata": {
    "collapsed": true
   },
   "outputs": [],
   "source": [
    "def precision_recall(true_pos_count, false_pos_count, false_neg_count):\n",
    "    precision = float(true_pos_count) / (float(true_pos_count) + float(false_pos_count))\n",
    "    recall = float(true_pos_count) / (float(true_pos_count) + float(false_neg_count))\n",
    "    return (precision, recall)"
   ]
  },
  {
   "cell_type": "code",
   "execution_count": 7,
   "metadata": {
    "collapsed": true
   },
   "outputs": [],
   "source": [
    "TRUTH = Path('znz-input')\n",
    "TEST = Path('znz-20190118')"
   ]
  },
  {
   "cell_type": "code",
   "execution_count": 95,
   "metadata": {
    "collapsed": true
   },
   "outputs": [],
   "source": [
    "df_truth = gpd.read_file(f'{str(TRUTH)}/grid_042.geojson')\n",
    "df_test = gpd.read_file(f'{str(TEST)}/grid_042_20190118_07_classes.geojson')"
   ]
  },
  {
   "cell_type": "code",
   "execution_count": 96,
   "metadata": {},
   "outputs": [
    {
     "data": {
      "text/html": [
       "<div>\n",
       "<style scoped>\n",
       "    .dataframe tbody tr th:only-of-type {\n",
       "        vertical-align: middle;\n",
       "    }\n",
       "\n",
       "    .dataframe tbody tr th {\n",
       "        vertical-align: top;\n",
       "    }\n",
       "\n",
       "    .dataframe thead th {\n",
       "        text-align: right;\n",
       "    }\n",
       "</style>\n",
       "<table border=\"1\" class=\"dataframe\">\n",
       "  <thead>\n",
       "    <tr style=\"text-align: right;\">\n",
       "      <th></th>\n",
       "      <th>id</th>\n",
       "      <th>changeset</th>\n",
       "      <th>problemati</th>\n",
       "      <th>condition</th>\n",
       "      <th>area</th>\n",
       "      <th>geometry</th>\n",
       "    </tr>\n",
       "  </thead>\n",
       "  <tbody>\n",
       "    <tr>\n",
       "      <th>0</th>\n",
       "      <td>1</td>\n",
       "      <td>2017-09-03T23:40:59</td>\n",
       "      <td>None</td>\n",
       "      <td>Complete</td>\n",
       "      <td>16.93017578125</td>\n",
       "      <td>POLYGON ((39.33633038681167 -5.920836943343485...</td>\n",
       "    </tr>\n",
       "    <tr>\n",
       "      <th>1</th>\n",
       "      <td>2</td>\n",
       "      <td>2017-09-03T23:40:59</td>\n",
       "      <td>None</td>\n",
       "      <td>Complete</td>\n",
       "      <td>21.62890625</td>\n",
       "      <td>POLYGON ((39.33628382960306 -5.92092792350677,...</td>\n",
       "    </tr>\n",
       "    <tr>\n",
       "      <th>2</th>\n",
       "      <td>3</td>\n",
       "      <td>2017-09-03T23:40:59</td>\n",
       "      <td>None</td>\n",
       "      <td>Complete</td>\n",
       "      <td>11.2216796875</td>\n",
       "      <td>POLYGON ((39.33622587109281 -5.920941122736775...</td>\n",
       "    </tr>\n",
       "    <tr>\n",
       "      <th>3</th>\n",
       "      <td>4</td>\n",
       "      <td>2017-09-03T23:40:59</td>\n",
       "      <td>None</td>\n",
       "      <td>Complete</td>\n",
       "      <td>46.849609375</td>\n",
       "      <td>POLYGON ((39.33368444829663 -5.923518950659385...</td>\n",
       "    </tr>\n",
       "    <tr>\n",
       "      <th>4</th>\n",
       "      <td>5</td>\n",
       "      <td>2017-09-03T23:40:59</td>\n",
       "      <td>None</td>\n",
       "      <td>Complete</td>\n",
       "      <td>7.458984375</td>\n",
       "      <td>POLYGON ((39.33414129839756 -5.923375141989136...</td>\n",
       "    </tr>\n",
       "  </tbody>\n",
       "</table>\n",
       "</div>"
      ],
      "text/plain": [
       "   id            changeset problemati condition            area  \\\n",
       "0   1  2017-09-03T23:40:59       None  Complete  16.93017578125   \n",
       "1   2  2017-09-03T23:40:59       None  Complete     21.62890625   \n",
       "2   3  2017-09-03T23:40:59       None  Complete   11.2216796875   \n",
       "3   4  2017-09-03T23:40:59       None  Complete    46.849609375   \n",
       "4   5  2017-09-03T23:40:59       None  Complete     7.458984375   \n",
       "\n",
       "                                            geometry  \n",
       "0  POLYGON ((39.33633038681167 -5.920836943343485...  \n",
       "1  POLYGON ((39.33628382960306 -5.92092792350677,...  \n",
       "2  POLYGON ((39.33622587109281 -5.920941122736775...  \n",
       "3  POLYGON ((39.33368444829663 -5.923518950659385...  \n",
       "4  POLYGON ((39.33414129839756 -5.923375141989136...  "
      ]
     },
     "execution_count": 96,
     "metadata": {},
     "output_type": "execute_result"
    }
   ],
   "source": [
    "df_truth.head()"
   ]
  },
  {
   "cell_type": "code",
   "execution_count": 97,
   "metadata": {},
   "outputs": [
    {
     "data": {
      "text/html": [
       "<div>\n",
       "<style scoped>\n",
       "    .dataframe tbody tr th:only-of-type {\n",
       "        vertical-align: middle;\n",
       "    }\n",
       "\n",
       "    .dataframe tbody tr th {\n",
       "        vertical-align: top;\n",
       "    }\n",
       "\n",
       "    .dataframe thead th {\n",
       "        text-align: right;\n",
       "    }\n",
       "</style>\n",
       "<table border=\"1\" class=\"dataframe\">\n",
       "  <thead>\n",
       "    <tr style=\"text-align: right;\">\n",
       "      <th></th>\n",
       "      <th>cat</th>\n",
       "      <th>building_id</th>\n",
       "      <th>conf_foundation</th>\n",
       "      <th>conf_completed</th>\n",
       "      <th>conf_unfinished</th>\n",
       "      <th>geometry</th>\n",
       "    </tr>\n",
       "  </thead>\n",
       "  <tbody>\n",
       "    <tr>\n",
       "      <th>0</th>\n",
       "      <td>conf_completed</td>\n",
       "      <td>0</td>\n",
       "      <td>0.0049</td>\n",
       "      <td>0.9765</td>\n",
       "      <td>0.0185</td>\n",
       "      <td>POLYGON ((39.33541308434184 -5.933007141989886...</td>\n",
       "    </tr>\n",
       "    <tr>\n",
       "      <th>1</th>\n",
       "      <td>conf_completed</td>\n",
       "      <td>1</td>\n",
       "      <td>0.0096</td>\n",
       "      <td>0.6228</td>\n",
       "      <td>0.3669</td>\n",
       "      <td>POLYGON ((39.33543994125422 -5.932787098088375...</td>\n",
       "    </tr>\n",
       "    <tr>\n",
       "      <th>2</th>\n",
       "      <td>conf_completed</td>\n",
       "      <td>2</td>\n",
       "      <td>0.0062</td>\n",
       "      <td>0.9525</td>\n",
       "      <td>0.0408</td>\n",
       "      <td>POLYGON ((39.33536607110349 -5.932866080282638...</td>\n",
       "    </tr>\n",
       "    <tr>\n",
       "      <th>3</th>\n",
       "      <td>conf_completed</td>\n",
       "      <td>3</td>\n",
       "      <td>0.0189</td>\n",
       "      <td>0.9730</td>\n",
       "      <td>0.0079</td>\n",
       "      <td>POLYGON ((39.33511558848227 -5.932883043772769...</td>\n",
       "    </tr>\n",
       "    <tr>\n",
       "      <th>4</th>\n",
       "      <td>conf_foundation</td>\n",
       "      <td>4</td>\n",
       "      <td>0.8673</td>\n",
       "      <td>0.0280</td>\n",
       "      <td>0.1034</td>\n",
       "      <td>POLYGON ((39.33529523898535 -5.932884091309337...</td>\n",
       "    </tr>\n",
       "  </tbody>\n",
       "</table>\n",
       "</div>"
      ],
      "text/plain": [
       "               cat  building_id  conf_foundation  conf_completed  \\\n",
       "0   conf_completed            0           0.0049          0.9765   \n",
       "1   conf_completed            1           0.0096          0.6228   \n",
       "2   conf_completed            2           0.0062          0.9525   \n",
       "3   conf_completed            3           0.0189          0.9730   \n",
       "4  conf_foundation            4           0.8673          0.0280   \n",
       "\n",
       "   conf_unfinished                                           geometry  \n",
       "0           0.0185  POLYGON ((39.33541308434184 -5.933007141989886...  \n",
       "1           0.3669  POLYGON ((39.33543994125422 -5.932787098088375...  \n",
       "2           0.0408  POLYGON ((39.33536607110349 -5.932866080282638...  \n",
       "3           0.0079  POLYGON ((39.33511558848227 -5.932883043772769...  \n",
       "4           0.1034  POLYGON ((39.33529523898535 -5.932884091309337...  "
      ]
     },
     "execution_count": 97,
     "metadata": {},
     "output_type": "execute_result"
    }
   ],
   "source": [
    "df_test.head()"
   ]
  },
  {
   "cell_type": "code",
   "execution_count": 98,
   "metadata": {},
   "outputs": [
    {
     "data": {
      "text/plain": [
       "<matplotlib.axes._subplots.AxesSubplot at 0x11d9c11d0>"
      ]
     },
     "execution_count": 98,
     "metadata": {},
     "output_type": "execute_result"
    },
    {
     "data": {
      "image/png": "[encoded data removed]",
      "text/plain": [
       "<Figure size 720x720 with 1 Axes>"
      ]
     },
     "metadata": {},
     "output_type": "display_data"
    }
   ],
   "source": [
    "df_truth.geometry.plot(figsize=(10,10))"
   ]
  },
  {
   "cell_type": "code",
   "execution_count": 99,
   "metadata": {},
   "outputs": [
    {
     "data": {
      "text/plain": [
       "<matplotlib.axes._subplots.AxesSubplot at 0x11dc8c6d8>"
      ]
     },
     "execution_count": 99,
     "metadata": {},
     "output_type": "execute_result"
    },
    {
     "data": {
      "image/png": "[encoded data removed]",
      "text/plain": [
       "<Figure size 720x720 with 1 Axes>"
      ]
     },
     "metadata": {},
     "output_type": "display_data"
    }
   ],
   "source": [
    "df_test.geometry.plot(figsize=(10,10))"
   ]
  },
  {
   "cell_type": "code",
   "execution_count": 100,
   "metadata": {},
   "outputs": [
    {
     "data": {
      "text/plain": [
       "conf_completed     365\n",
       "conf_unfinished    108\n",
       "conf_foundation     51\n",
       "Name: cat, dtype: int64"
      ]
     },
     "execution_count": 100,
     "metadata": {},
     "output_type": "execute_result"
    }
   ],
   "source": [
    "df_test['cat'].value_counts()"
   ]
  },
  {
   "cell_type": "code",
   "execution_count": 101,
   "metadata": {},
   "outputs": [
    {
     "data": {
      "text/plain": [
       "Complete      373\n",
       "Incomplete    112\n",
       "Foundation     66\n",
       "Name: condition, dtype: int64"
      ]
     },
     "execution_count": 101,
     "metadata": {},
     "output_type": "execute_result"
    }
   ],
   "source": [
    "df_truth['condition'].value_counts()"
   ]
  },
  {
   "cell_type": "code",
   "execution_count": 102,
   "metadata": {
    "collapsed": true
   },
   "outputs": [],
   "source": [
    "cats = [('conf_foundation','Foundation'),('conf_unfinished','Incomplete'),('conf_completed','Complete')]"
   ]
  },
  {
   "cell_type": "code",
   "execution_count": 103,
   "metadata": {},
   "outputs": [
    {
     "name": "stderr",
     "output_type": "stream",
     "text": [
      "51it [00:00, 372.86it/s]\n",
      "35it [00:00, 346.39it/s]"
     ]
    },
    {
     "name": "stdout",
     "output_type": "stream",
     "text": [
      "Foundation\n",
      "(0.717948717948718, 42, 9, 24) (0.8235294117647058, 0.6363636363636364)\n"
     ]
    },
    {
     "name": "stderr",
     "output_type": "stream",
     "text": [
      "108it [00:00, 394.50it/s]\n",
      "50it [00:00, 493.64it/s]"
     ]
    },
    {
     "name": "stdout",
     "output_type": "stream",
     "text": [
      "Incomplete\n",
      "(0.7545454545454546, 83, 25, 29) (0.7685185185185185, 0.7410714285714286)\n"
     ]
    },
    {
     "name": "stderr",
     "output_type": "stream",
     "text": [
      "365it [00:00, 442.09it/s]"
     ]
    },
    {
     "name": "stdout",
     "output_type": "stream",
     "text": [
      "Complete\n",
      "(0.7100271002710028, 262, 103, 111) (0.7178082191780822, 0.7024128686327078)\n"
     ]
    },
    {
     "name": "stderr",
     "output_type": "stream",
     "text": [
      "\n"
     ]
    }
   ],
   "source": [
    "for (test_cat, truth_cat) in cats:\n",
    "    test_polys = [geom for geom in df_test[df_test['cat'] == test_cat].geometry]\n",
    "    truth_polys = [geom for geom in df_truth[df_truth['condition'] == truth_cat].geometry]\n",
    "    truth_index = create_rtree_from_poly(truth_polys)\n",
    "    scores = evalfunction(grid_num,test_polys, truth_polys, truth_index=truth_index)\n",
    "    print(truth_cat)\n",
    "    print(scores[0],precision_recall(*scores[0][1:]))"
   ]
  },
  {
   "cell_type": "code",
   "execution_count": 104,
   "metadata": {
    "collapsed": true
   },
   "outputs": [],
   "source": [
    "test_polys = [geom for geom in df_test.geometry]\n",
    "truth_polys = [geom for geom in df_truth.geometry]\n",
    "truth_index = create_rtree_from_poly(truth_polys)"
   ]
  },
  {
   "cell_type": "code",
   "execution_count": 105,
   "metadata": {},
   "outputs": [
    {
     "name": "stderr",
     "output_type": "stream",
     "text": [
      "524it [00:01, 380.99it/s]\n"
     ]
    },
    {
     "data": {
      "text/plain": [
       "((0.7962790697674418, 428, 96, 123), (0.816793893129771, 0.7767695099818511))"
      ]
     },
     "execution_count": 105,
     "metadata": {},
     "output_type": "execute_result"
    }
   ],
   "source": [
    "scores = evalfunction(grid_num,test_polys, truth_polys, truth_index=truth_index)\n",
    "scores[0],precision_recall(*scores[0][1:])"
   ]
  }
 ],
 "metadata": {
  "kernelspec": {
   "display_name": "Python [conda env:fastai-cpu]",
   "language": "python",
   "name": "conda-env-fastai-cpu-py"
  },
  "language_info": {
   "codemirror_mode": {
    "name": "ipython",
    "version": 3
   },
   "file_extension": ".py",
   "mimetype": "text/x-python",
   "name": "python",
   "nbconvert_exporter": "python",
   "pygments_lexer": "ipython3",
   "version": "3.6.4"
  }
 },
 "nbformat": 4,
 "nbformat_minor": 2
}
